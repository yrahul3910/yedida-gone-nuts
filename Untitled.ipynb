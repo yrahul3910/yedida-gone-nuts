{
 "cells": [
  {
   "cell_type": "code",
   "execution_count": 2,
   "metadata": {},
   "outputs": [],
   "source": [
    "from torch import nn\n",
    "from torch import optim\n",
    "from torch.utils.data import Dataset, DataLoader\n",
    "from torch.nn import functional as F"
   ]
  },
  {
   "cell_type": "code",
   "execution_count": 3,
   "metadata": {},
   "outputs": [],
   "source": [
    "import pandas as pd\n",
    "import numpy as np"
   ]
  },
  {
   "cell_type": "code",
   "execution_count": 4,
   "metadata": {},
   "outputs": [],
   "source": [
    "class EclipseData(Dataset):\n",
    "    def __init__(self):\n",
    "        super().__init__()\n",
    "        path = 'DL4SE/issue_close_time/DASENetComparison/Bug-Related-Activity-Logs'\n",
    "        dataset = 'eclipse'\n",
    "        \n",
    "        self.df = pd.read_csv(f'{path}/{dataset}.csv')\n",
    "        df.drop(['Unnamed: 0', 'bugID'], axis=1, inplace=True)\n",
    "        _df = self.df[['s1', 's2', 's3', 's4', 's5', 's6', 's8', 'y']]\n",
    "        _df['s70'] = df['s7'].apply(lambda x: eval(x)[0])\n",
    "        _df['s71'] = df['s7'].apply(lambda x: eval(x)[1])\n",
    "        _df['s72'] = df['s7'].apply(lambda x: eval(x)[2])\n",
    "        _df['s90'] = df['s9'].apply(lambda x: eval(x)[0])\n",
    "        _df['s91'] = df['s9'].apply(lambda x: eval(x)[1])\n",
    "        self.x = _df.drop('y', axis=1)\n",
    "        self.y = _df['y']\n",
    "    \n",
    "    def __getitem__(self, i):\n",
    "        return self.x.iloc[i,:], self.y[i]\n",
    "    \n",
    "    def __len__(self):\n",
    "        return self.y.shape[0]\n",
    "    \n",
    "    def __iter__(self):\n",
    "        return next(self.x), next(self.y)"
   ]
  },
  {
   "cell_type": "code",
   "execution_count": null,
   "metadata": {},
   "outputs": [],
   "source": [
    "# idea: learn the data augmentation...\n",
    "# one NN from +ve --> augmented +ve\n",
    "# one NN from -ve --> augmented -ve\n",
    "# concat these two\n",
    "# pass to third NN\n",
    "# train in GAN style"
   ]
  }
 ],
 "metadata": {
  "kernelspec": {
   "display_name": "Python 3",
   "language": "python",
   "name": "python3"
  },
  "language_info": {
   "codemirror_mode": {
    "name": "ipython",
    "version": 3
   },
   "file_extension": ".py",
   "mimetype": "text/x-python",
   "name": "python",
   "nbconvert_exporter": "python",
   "pygments_lexer": "ipython3",
   "version": "3.8.5"
  }
 },
 "nbformat": 4,
 "nbformat_minor": 4
}
