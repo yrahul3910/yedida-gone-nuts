{
 "cells": [
  {
   "cell_type": "code",
   "execution_count": 1,
   "metadata": {},
   "outputs": [],
   "source": [
    "from raise_utils.data import DataLoader\n",
    "import glob\n",
    "import numpy as np"
   ]
  },
  {
   "cell_type": "code",
   "execution_count": 2,
   "metadata": {},
   "outputs": [],
   "source": [
    "def get_defect_prediction_datasets():\n",
    "    base_path = '../Dodge/data/defect/'\n",
    "    files = glob.glob(f'{base_path}*-*.csv')\n",
    "    \n",
    "    return files"
   ]
  },
  {
   "cell_type": "code",
   "execution_count": 3,
   "metadata": {},
   "outputs": [],
   "source": [
    "def get_issue_lifetime_datasets():\n",
    "    base_path = '../Dodge/data/issue_close_time/'\n",
    "    files = glob.glob(base_path + '**/*.csv')\n",
    "    \n",
    "    return files"
   ]
  },
  {
   "cell_type": "code",
   "execution_count": 4,
   "metadata": {},
   "outputs": [],
   "source": [
    "def get_smell_datasets():\n",
    "    base_path = '../Dodge/data/smell/'\n",
    "    files = glob.glob(base_path + '*.csv')\n",
    "    \n",
    "    return files"
   ]
  },
  {
   "cell_type": "code",
   "execution_count": 5,
   "metadata": {},
   "outputs": [],
   "source": [
    "def get_uci_datasets():\n",
    "    base_path = '../Dodge/data/UCI/'\n",
    "    files = glob.glob(base_path + '*.csv')\n",
    "    \n",
    "    return files"
   ]
  },
  {
   "cell_type": "markdown",
   "metadata": {},
   "source": [
    "## Test sufficient statistic a good estimate"
   ]
  },
  {
   "cell_type": "code",
   "execution_count": 20,
   "metadata": {},
   "outputs": [
    {
     "name": "stdout",
     "output_type": "stream",
     "text": [
      "Mean\n",
      "---\n",
      "Yes: 97.37\n",
      "No: 2.63\n",
      "\n",
      "std\n",
      "---\n",
      "Yes: 81.58\n",
      "No: 18.42\n"
     ]
    }
   ],
   "source": [
    "no_mean = 0\n",
    "yes_mean = 0\n",
    "no_std = 0\n",
    "yes_std = 0\n",
    "for dataset in get_defect_prediction_datasets():\n",
    "    data = DataLoader.from_file(dataset)\n",
    "    data.x_train = np.array(data.x_train)\n",
    "    data.x_test = np.concatenate((data.x_train, np.array(data.x_test)))\n",
    "    \n",
    "    m0 = np.mean(data.x_train, axis=0)\n",
    "    m1 = np.mean(data.x_test, axis=0)\n",
    "    \n",
    "    s0 = np.std(data.x_train, axis=0)\n",
    "    s1 = np.std(data.x_test, axis=0)\n",
    "    \n",
    "    res_mean = np.abs((m0 - m1) / m1) <= 0.1\n",
    "    if sum(res_mean) / len(res_mean) < 0.7:\n",
    "        no_mean += 1\n",
    "    else:\n",
    "        yes_mean += 1\n",
    "    \n",
    "    res_std = np.abs((s0 - s1) / s1) <= 0.1\n",
    "    if sum(res_std) / len(res_std) < 0.7:\n",
    "        no_std += 1\n",
    "    else:\n",
    "        yes_std += 1\n",
    "\n",
    "print('Mean\\n---\\nYes:', round(100 * yes_mean / (yes_mean + no_mean), 2))\n",
    "print('No:', round(100 * no_mean / (yes_mean + no_mean), 2))\n",
    "\n",
    "print('\\nstd\\n---\\nYes:', round(100 * yes_std / (yes_std + no_std), 2))\n",
    "print('No:', round(100 * no_std / (yes_std + no_std), 2))"
   ]
  },
  {
   "cell_type": "code",
   "execution_count": 22,
   "metadata": {},
   "outputs": [
    {
     "name": "stderr",
     "output_type": "stream",
     "text": [
      "<ipython-input-22-7ab05ef5b7f3>:16: RuntimeWarning: invalid value encountered in true_divide\n",
      "  res_mean = np.abs((m0 - m1) / m1) <= 0.1\n",
      "<ipython-input-22-7ab05ef5b7f3>:22: RuntimeWarning: invalid value encountered in true_divide\n",
      "  res_std = np.abs((s0 - s1) / s1) <= 0.1\n"
     ]
    },
    {
     "name": "stdout",
     "output_type": "stream",
     "text": [
      "Mean\n",
      "---\n",
      "Yes: 100.0\n",
      "No: 0.0\n",
      "\n",
      "std\n",
      "---\n",
      "Yes: 100.0\n",
      "No: 0.0\n"
     ]
    }
   ],
   "source": [
    "no_mean = 0\n",
    "yes_mean = 0\n",
    "no_std = 0\n",
    "yes_std = 0\n",
    "for dataset in get_issue_lifetime_datasets():\n",
    "    data = DataLoader.from_file(dataset, target='timeOpen', col_start=0)\n",
    "    data.x_train = np.array(data.x_train)\n",
    "    data.x_test = np.concatenate((data.x_train, np.array(data.x_test)))\n",
    "    \n",
    "    m0 = np.mean(data.x_train, axis=0)\n",
    "    m1 = np.mean(data.x_test, axis=0)\n",
    "    \n",
    "    s0 = np.std(data.x_train, axis=0)\n",
    "    s1 = np.std(data.x_test, axis=0)\n",
    "    \n",
    "    res_mean = np.abs((m0 - m1) / m1) <= 0.1\n",
    "    if sum(res_mean) / len(res_mean) < 0.7:\n",
    "        no_mean += 1\n",
    "    else:\n",
    "        yes_mean += 1\n",
    "    \n",
    "    res_std = np.abs((s0 - s1) / s1) <= 0.1\n",
    "    if sum(res_std) / len(res_std) < 0.7:\n",
    "        no_std += 1\n",
    "    else:\n",
    "        yes_std += 1\n",
    "\n",
    "print('Mean\\n---\\nYes:', round(100 * yes_mean / (yes_mean + no_mean), 2))\n",
    "print('No:', round(100 * no_mean / (yes_mean + no_mean), 2))\n",
    "\n",
    "print('\\nstd\\n---\\nYes:', round(100 * yes_std / (yes_std + no_std), 2))\n",
    "print('No:', round(100 * no_std / (yes_std + no_std), 2))"
   ]
  },
  {
   "cell_type": "code",
   "execution_count": 23,
   "metadata": {},
   "outputs": [
    {
     "name": "stdout",
     "output_type": "stream",
     "text": [
      "Mean\n",
      "---\n",
      "Yes: 0.0\n",
      "No: 100.0\n",
      "\n",
      "std\n",
      "---\n",
      "Yes: 0.0\n",
      "No: 100.0\n"
     ]
    },
    {
     "name": "stderr",
     "output_type": "stream",
     "text": [
      "<ipython-input-23-11e17c2eb7b9>:16: RuntimeWarning: invalid value encountered in true_divide\n",
      "  res_mean = np.abs((m0 - m1) / m1) <= 0.1\n",
      "<ipython-input-23-11e17c2eb7b9>:22: RuntimeWarning: invalid value encountered in true_divide\n",
      "  res_std = np.abs((s0 - s1) / s1) <= 0.1\n"
     ]
    }
   ],
   "source": [
    "no_mean = 0\n",
    "yes_mean = 0\n",
    "no_std = 0\n",
    "yes_std = 0\n",
    "for dataset in get_smell_datasets():\n",
    "    data = DataLoader.from_file(dataset, target='SMELLS', col_start=0)\n",
    "    data.x_train = np.array(data.x_train)\n",
    "    data.x_test = np.concatenate((data.x_train, np.array(data.x_test)))\n",
    "    \n",
    "    m0 = np.mean(data.x_train, axis=0)\n",
    "    m1 = np.mean(data.x_test, axis=0)\n",
    "    \n",
    "    s0 = np.std(data.x_train, axis=0)\n",
    "    s1 = np.std(data.x_test, axis=0)\n",
    "    \n",
    "    res_mean = np.abs((m0 - m1) / m1) <= 0.1\n",
    "    if sum(res_mean) / len(res_mean) < 0.7:\n",
    "        no_mean += 1\n",
    "    else:\n",
    "        yes_mean += 1\n",
    "    \n",
    "    res_std = np.abs((s0 - s1) / s1) <= 0.1\n",
    "    if sum(res_std) / len(res_std) < 0.7:\n",
    "        no_std += 1\n",
    "    else:\n",
    "        yes_std += 1\n",
    "\n",
    "print('Mean\\n---\\nYes:', round(100 * yes_mean / (yes_mean + no_mean), 2))\n",
    "print('No:', round(100 * no_mean / (yes_mean + no_mean), 2))\n",
    "\n",
    "print('\\nstd\\n---\\nYes:', round(100 * yes_std / (yes_std + no_std), 2))\n",
    "print('No:', round(100 * no_std / (yes_std + no_std), 2))"
   ]
  },
  {
   "cell_type": "markdown",
   "metadata": {},
   "source": [
    "## Test if Gaussian"
   ]
  },
  {
   "cell_type": "code",
   "execution_count": 24,
   "metadata": {},
   "outputs": [],
   "source": [
    "import scipy.stats as st"
   ]
  },
  {
   "cell_type": "code",
   "execution_count": 31,
   "metadata": {},
   "outputs": [
    {
     "name": "stdout",
     "output_type": "stream",
     "text": [
      "Yes: 0.0\n",
      "No: 100.0\n"
     ]
    }
   ],
   "source": [
    "no = 0\n",
    "yes = 0\n",
    "for dataset in get_defect_prediction_datasets():\n",
    "    data = DataLoader.from_file(dataset)\n",
    "    data.x_train = np.array(data.x_train)\n",
    "    data.x_test = np.concatenate((data.x_train, np.array(data.x_test)))\n",
    "\n",
    "    for k in range(data.x_test.shape[1]):\n",
    "        if st.ks_1samp(data.x_test[:,k], st.norm.cdf)[1] <= 0.1:\n",
    "            no += 1\n",
    "        else:\n",
    "            yes += 1\n",
    "\n",
    "print('Yes:', round(100 * yes / (yes + no), 2))\n",
    "print('No:', round(100 * no / (yes + no), 2))"
   ]
  },
  {
   "cell_type": "code",
   "execution_count": 32,
   "metadata": {},
   "outputs": [
    {
     "name": "stdout",
     "output_type": "stream",
     "text": [
      "Yes: 0.0\n",
      "No: 100.0\n"
     ]
    }
   ],
   "source": [
    "no = 0\n",
    "yes = 0\n",
    "for dataset in get_issue_lifetime_datasets():\n",
    "    data = DataLoader.from_file(dataset, target='timeOpen', col_start=0)\n",
    "    data.x_train = np.array(data.x_train)\n",
    "    data.x_test = np.concatenate((data.x_train, np.array(data.x_test)))\n",
    "\n",
    "    for k in range(data.x_test.shape[1]):\n",
    "        if st.ks_1samp(data.x_test[:,k], st.norm.cdf)[1] <= 0.1:\n",
    "            no += 1\n",
    "        else:\n",
    "            yes += 1\n",
    "\n",
    "print('Yes:', round(100 * yes / (yes + no), 2))\n",
    "print('No:', round(100 * no / (yes + no), 2))"
   ]
  },
  {
   "cell_type": "code",
   "execution_count": 33,
   "metadata": {},
   "outputs": [
    {
     "name": "stdout",
     "output_type": "stream",
     "text": [
      "Yes: 0.0\n",
      "No: 100.0\n"
     ]
    }
   ],
   "source": [
    "no = 0\n",
    "yes = 0\n",
    "for dataset in get_smell_datasets():\n",
    "    data = DataLoader.from_file(dataset, target='SMELLS', col_start=0)\n",
    "    data.x_train = np.array(data.x_train)\n",
    "    data.x_test = np.concatenate((data.x_train, np.array(data.x_test)))\n",
    "\n",
    "    for k in range(data.x_test.shape[1]):\n",
    "        if st.ks_1samp(data.x_test[:,k], st.norm.cdf)[1] <= 0.1:\n",
    "            no += 1\n",
    "        else:\n",
    "            yes += 1\n",
    "\n",
    "print('Yes:', round(100 * yes / (yes + no), 2))\n",
    "print('No:', round(100 * no / (yes + no), 2))"
   ]
  },
  {
   "cell_type": "code",
   "execution_count": null,
   "metadata": {},
   "outputs": [],
   "source": []
  }
 ],
 "metadata": {
  "kernelspec": {
   "display_name": "Python 3",
   "language": "python",
   "name": "python3"
  },
  "language_info": {
   "codemirror_mode": {
    "name": "ipython",
    "version": 3
   },
   "file_extension": ".py",
   "mimetype": "text/x-python",
   "name": "python",
   "nbconvert_exporter": "python",
   "pygments_lexer": "ipython3",
   "version": "3.8.6"
  }
 },
 "nbformat": 4,
 "nbformat_minor": 4
}
