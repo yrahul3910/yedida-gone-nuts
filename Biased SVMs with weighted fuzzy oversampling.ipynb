{
 "cells": [
  {
   "cell_type": "code",
   "execution_count": 8,
   "metadata": {},
   "outputs": [
    {
     "name": "stdout",
     "output_type": "stream",
     "text": [
      "Collecting cvxopt\n",
      "  Using cached https://files.pythonhosted.org/packages/92/fa/10beeb4c6ea4d89f1154c7273a907cab5ce3345f4ac4aa716b21a17502f3/cvxopt-1.2.5-cp37-cp37m-macosx_10_9_x86_64.whl\n",
      "Installing collected packages: cvxopt\n",
      "Successfully installed cvxopt-1.2.5\n"
     ]
    }
   ],
   "source": [
    "!python3 -m pip install cvxopt"
   ]
  },
  {
   "cell_type": "code",
   "execution_count": 1,
   "metadata": {},
   "outputs": [],
   "source": [
    "import numpy as np\n",
    "import os\n",
    "import pandas as pd\n",
    "import cvxopt\n",
    "from cvxopt import matrix as cvxopt_matrix\n",
    "from cvxopt import solvers as cvxopt_solvers\n",
    "from sklearn.metrics import recall_score, precision_score, confusion_matrix, auc\n",
    "from sklearn.svm import SVC\n",
    "from sklearn.preprocessing import StandardScaler\n",
    "from sklearn.neighbors import LocalOutlierFactor\n",
    "import matplotlib.pyplot as plt\n",
    "import random\n",
    "import math"
   ]
  },
  {
   "cell_type": "code",
   "execution_count": 2,
   "metadata": {},
   "outputs": [],
   "source": [
    "base_path = '../../../Dodge/data/defect/'"
   ]
  },
  {
   "cell_type": "code",
   "execution_count": 3,
   "metadata": {},
   "outputs": [],
   "source": [
    "file_dic = {\"ivy\": [\"ivy-1.1.csv\", \"ivy-1.4.csv\", \"ivy-2.0.csv\"],\n",
    "            \"lucene\": [\"lucene-2.0.csv\", \"lucene-2.2.csv\", \"lucene-2.4.csv\"],\n",
    "            \"poi\": [\"poi-1.5.csv\", \"poi-2.0.csv\", \"poi-2.5.csv\", \"poi-3.0.csv\"],\n",
    "            \"synapse\": [\"synapse-1.0.csv\", \"synapse-1.1.csv\", \"synapse-1.2.csv\"],\n",
    "            \"velocity\": [\"velocity-1.4.csv\", \"velocity-1.5.csv\", \"velocity-1.6.csv\"],\n",
    "            \"camel\": [\"camel-1.0.csv\", \"camel-1.2.csv\", \"camel-1.4.csv\", \"camel-1.6.csv\"],\n",
    "            \"jedit\": [\"jedit-3.2.csv\", \"jedit-4.0.csv\", \"jedit-4.1.csv\", \"jedit-4.2.csv\", \"jedit-4.3.csv\"],\n",
    "            \"log4j\": [\"log4j-1.0.csv\", \"log4j-1.1.csv\", \"log4j-1.2.csv\"],\n",
    "            \"xalan\": [\"xalan-2.4.csv\", \"xalan-2.5.csv\", \"xalan-2.6.csv\", \"xalan-2.7.csv\"],\n",
    "            \"xerces\": [\"xerces-1.2.csv\", \"xerces-1.3.csv\", \"xerces-1.4.csv\"]\n",
    "           }"
   ]
  },
  {
   "cell_type": "code",
   "execution_count": 4,
   "metadata": {},
   "outputs": [],
   "source": [
    "def subtotal(x):\n",
    "    xx = [0]\n",
    "    for i, t in enumerate(x):\n",
    "        xx += [xx[-1] + t]\n",
    "    return xx[1:]\n",
    "\n",
    "\n",
    "def get_recall(true):\n",
    "    total_true = float(len([i for i in true if i == 1]))\n",
    "    hit = 0.0\n",
    "    recall = []\n",
    "    for i in range(len(true)):\n",
    "        if true[i] == 1:\n",
    "            hit += 1\n",
    "        recall += [hit / total_true if total_true else 0.0]\n",
    "    return recall\n",
    "\n",
    "def get_popt20(data):\n",
    "    data.sort_values(by=[\"bug\", \"loc\"], ascending=[0, 1], inplace=True)\n",
    "    x_sum = float(sum(data['loc']))\n",
    "    x = data['loc'].apply(lambda t: t / x_sum)\n",
    "    xx = subtotal(x)\n",
    "\n",
    "    # get  AUC_optimal\n",
    "    yy = get_recall(data['bug'].values)\n",
    "    xxx = [i for i in xx if i <= 0.2]\n",
    "    yyy = yy[:len(xxx)]\n",
    "    s_opt = round(auc(xxx, yyy), 3)\n",
    "\n",
    "    # get AUC_worst\n",
    "    xx = subtotal(x[::-1])\n",
    "    yy = get_recall(data['bug'][::-1].values)\n",
    "    xxx = [i for i in xx if i <= 0.2]\n",
    "    yyy = yy[:len(xxx)]\n",
    "    try:\n",
    "        s_wst = round(auc(xxx, yyy), 3)\n",
    "    except:\n",
    "        # print \"s_wst forced = 0\"\n",
    "        s_wst = 0\n",
    "    \n",
    "    # get AUC_prediction\n",
    "    data.sort_values(by=[\"prediction\", \"loc\"], ascending=[0, 1], inplace=True)\n",
    "    x = data['loc'].apply(lambda t: t / x_sum)\n",
    "    xx = subtotal(x)\n",
    "    yy = get_recall(data['bug'].values)\n",
    "    xxx = [k for k in xx if k <= 0.2]\n",
    "    yyy = yy[:len(xxx)]\n",
    "    try:\n",
    "        s_m = round(auc(xxx, yyy), 3)\n",
    "    except:\n",
    "        return 0\n",
    "    \n",
    "    Popt = (s_m - s_wst) / (s_opt - s_wst)\n",
    "    return round(Popt,3)"
   ]
  },
  {
   "cell_type": "code",
   "execution_count": 5,
   "metadata": {},
   "outputs": [],
   "source": [
    "# from https://pythonprogramming.net/soft-margin-kernel-cvxopt-svm-machine-learning-tutorial/\n",
    "def linear_kernel(x1, x2):\n",
    "    return np.dot(x1, x2)\n",
    "\n",
    "def polynomial_kernel(p=3):\n",
    "    def kernel(x, y, p=p):\n",
    "        return (1 + np.dot(x, y)) ** p\n",
    "    \n",
    "    return kernel\n",
    "\n",
    "def gaussian_kernel(sigma=5.0):\n",
    "    def kernel(x, y, sigma=sigma):\n",
    "        return np.exp(-np.linalg.norm(x-y)**2 / (2 * (sigma ** 2)))\n",
    "    \n",
    "    return kernel"
   ]
  },
  {
   "cell_type": "code",
   "execution_count": 6,
   "metadata": {},
   "outputs": [],
   "source": [
    "# from https://stackoverflow.com/questions/30564015/how-to-generate-random-points-in-a-circular-distribution\n",
    "def fuzz_data(X, y, radii=(0., 1.5, .5)):\n",
    "    idx = np.where(y == 1)[0]\n",
    "    frac = len(idx) * 1. / len(y)\n",
    "    print('debug: weight =', 1./frac)\n",
    "    \n",
    "    fuzzed_x = []\n",
    "    fuzzed_y = []\n",
    "    \n",
    "    for row in X[idx]:\n",
    "        for i, r in enumerate(np.arange(*radii)):\n",
    "            for j in range(int((1./frac) / pow(2., i))):\n",
    "                fuzzed_x.append([val - r for val in row])\n",
    "                fuzzed_x.append([val + r for val in row])\n",
    "                fuzzed_y.append(1)\n",
    "                fuzzed_y.append(1)\n",
    "    \n",
    "    return np.concatenate((X, np.array(fuzzed_x)), axis=0), np.concatenate((y, np.array(fuzzed_y)))"
   ]
  },
  {
   "cell_type": "code",
   "execution_count": 7,
   "metadata": {},
   "outputs": [],
   "source": [
    "def solve_dual_problem(X, y, k=.1, kernel=linear_kernel, C=1.):\n",
    "    m, n = X.shape\n",
    "    \n",
    "    idx = np.where(y == -1)[0]\n",
    "    q = -np.ones((m, 1))\n",
    "    q[idx] = -k\n",
    "    q = cvxopt_matrix(q)\n",
    "    \n",
    "    y = np.array(y).reshape(1, -1) * 1.\n",
    "        \n",
    "    K = np.zeros((m, m))\n",
    "    for i in range(m):\n",
    "        for j in range(m):\n",
    "            K[i,j] = kernel(X[i], X[j])\n",
    "\n",
    "    P = cvxopt.matrix(np.outer(y,y) * K)\n",
    "    h = cvxopt_matrix(np.hstack((np.zeros(m), np.ones(m) * C)))\n",
    "    A = cvxopt_matrix(y.reshape(1, -1))\n",
    "    b = cvxopt_matrix(np.zeros(1))\n",
    "    G = cvxopt_matrix(np.vstack((np.eye(m)*-1,np.eye(m))))\n",
    "\n",
    "    cvxopt_solvers.options['show_progress'] = False\n",
    "    sol = cvxopt_solvers.qp(P, q, G, h, A, b)\n",
    "    lambd = np.array(sol['x'])\n",
    "    y=y.T\n",
    "    w = ((y * lambd).T @ X).T\n",
    "    \n",
    "    ind = np.where(y == -1)[0]\n",
    "    idx = np.where(y == 1)[0]\n",
    "    p1 = -k - X[ind] @ w\n",
    "\n",
    "    ind = np.where(y == 1)[0]\n",
    "    p2 = 1. - X[idx] @ w\n",
    "\n",
    "    b = (np.max(p1) + np.min(p2)) / 2\n",
    "    \n",
    "    return w, b"
   ]
  },
  {
   "cell_type": "code",
   "execution_count": 8,
   "metadata": {},
   "outputs": [],
   "source": [
    "def run_on_dataset(filename, metric='recall', draw_roc=False, kernel=linear_kernel, k=.5):\n",
    "    paths = [os.path.join(base_path, file_name) for file_name in file_dic[filename]]\n",
    "    train_df = pd.concat([pd.read_csv(path) for path in paths[:-1]], ignore_index=True)\n",
    "    test_df = pd.read_csv(paths[-1])\n",
    "    \n",
    "    train_df, test_df = train_df.iloc[:, 3:], test_df.iloc[:, 3:]\n",
    "    train_size = train_df[\"bug\"].count()\n",
    "    df = pd.concat([train_df, test_df], ignore_index=True)\n",
    "    df['bug'] = df['bug'].apply(lambda x: -1 if x == 0 else 1)\n",
    "    \n",
    "    train_data = df.iloc[:train_size, :]\n",
    "    test_data = df.iloc[train_size:, :]\n",
    "    \n",
    "    X_train = train_data[train_data.columns[:-2]]\n",
    "    y_train = train_data['bug']\n",
    "    \n",
    "    X_train, y_train = np.array(get_inliers(X_train, y_train))\n",
    "    \n",
    "    X_test = test_data[test_data.columns[:-2]]\n",
    "    y_test = test_data['bug']\n",
    "    \n",
    "    w, b = solve_dual_problem(np.array(X_train), np.array(y_train).reshape(-1,1), k=k, kernel=kernel)\n",
    "    preds = ((np.array(X_test) @ w + b) > k).astype('int').squeeze()\n",
    "    preds[preds == 0] = -1\n",
    "    \n",
    "    tn, fp, fn, tp = confusion_matrix(y_test, preds).ravel()\n",
    "    print('tn, fp, fn, tp =', tn, fp, fn, tp)\n",
    "    fpr = fp * 1.0 / (tn + fp) if (tn + fp) != 0 else 0\n",
    "    rec = 1.0 * tp / (tp + fn) if (tp + fn) != 0 else 0\n",
    "    \n",
    "    test_data.loc[:,\"prediction\"] = preds\n",
    "    \n",
    "    print('Biased SVM results:')\n",
    "    print('Recall =', recall_score(y_test, preds))\n",
    "    print('Precision =', precision_score(y_test, preds))\n",
    "    print('False alarm =', fpr)\n",
    "    print('d2h =', np.sqrt(fpr ** 2 + (1 - rec) ** 2) / np.sqrt(2))\n",
    "    print('popt20 =', get_popt20(test_data))"
   ]
  },
  {
   "cell_type": "code",
   "execution_count": 9,
   "metadata": {},
   "outputs": [],
   "source": [
    "def get_dodge_pareto(filename):\n",
    "    with open(f'./dodge_results/{filename}.txt', 'r') as f:\n",
    "        lines = f.readlines()\n",
    "    \n",
    "    rec = [float(line.split(', ')[5]) for line in lines]\n",
    "    pf = [float(line.split(', ')[7]) for line in lines]\n",
    "    return pf, rec"
   ]
  },
  {
   "cell_type": "code",
   "execution_count": 10,
   "metadata": {},
   "outputs": [],
   "source": [
    "def get_inliers(X, y):\n",
    "    n_neighbors = int(np.sqrt(len(X)))\n",
    "    detector = LocalOutlierFactor(n_neighbors=n_neighbors, metric='euclidean')\n",
    "    results = detector.fit_predict(X)\n",
    "    indices = np.where(results == 1)[0]\n",
    "    \n",
    "    return np.array(X)[indices], np.array(y)[indices]"
   ]
  },
  {
   "cell_type": "code",
   "execution_count": 11,
   "metadata": {},
   "outputs": [],
   "source": [
    "def tune(filename, start=.1, end=.9, n_iter=10, plot=True, C=1.):\n",
    "    if plot:\n",
    "        points_x = []\n",
    "        points_y = []\n",
    "    \n",
    "    paths = [os.path.join(base_path, file_name) for file_name in file_dic[filename]]\n",
    "    train_df = pd.concat([pd.read_csv(path) for path in paths[:-1]], ignore_index=True)\n",
    "    test_df = pd.read_csv(paths[-1])\n",
    "    \n",
    "    train_df, test_df = train_df.iloc[:, 3:], test_df.iloc[:, 3:]\n",
    "    train_size = train_df[\"bug\"].count()\n",
    "    df = pd.concat([train_df, test_df], ignore_index=True)\n",
    "    df['bug'] = df['bug'].apply(lambda x: -1 if x == 0 else 1)\n",
    "    \n",
    "    train_data = df.iloc[:train_size, :]\n",
    "    test_data = df.iloc[train_size:, :]\n",
    "    \n",
    "    X_train = np.array(train_data[train_data.columns[:-2]])\n",
    "    y_train = np.array(train_data['bug'])\n",
    "    X_test = np.array(test_data[test_data.columns[:-2]])\n",
    "    y_test = test_data['bug']\n",
    "        \n",
    "    scaler = StandardScaler()\n",
    "    scaler.fit_transform(X_train)\n",
    "    scaler.transform(X_test)\n",
    "    X_train_fuzzed, y_train_fuzzed = fuzz_data(X_train, y_train, radii=(0., .1, .01))\n",
    "    \n",
    "    old_tn, old_fp = 0., -1.\n",
    "    low_tn = 1e5\n",
    "    high_fp = -1.\n",
    "    low = start\n",
    "    high = end\n",
    "    low_k, high_k = 0., 0.\n",
    "    for i in range(n_iter):\n",
    "        k = (low + high) / 2\n",
    "        w, b = solve_dual_problem(X_train_fuzzed, y_train_fuzzed.reshape(-1,1), k=k, C=C)\n",
    "        preds = ((X_test @ w + b) > k).astype('int').squeeze()\n",
    "        preds[preds == 0] = -1\n",
    "\n",
    "        tn, fp, fn, tp = confusion_matrix(y_test, preds).ravel()\n",
    "        fpr = fp * 1.0 / (tn + fp) if (tn + fp) != 0 else 0\n",
    "        rec = 1.0 * tp / (tp + fn) if (tp + fn) != 0 else 0\n",
    "        print('it', str(i+1) + ':', 'k =', k, '|', 'pf =', fpr, '|', 'rec =', rec, '|', 'tn =', tn, '|', 'fp =', fp)\n",
    "        \n",
    "        if tn != old_tn and fp != old_fp:\n",
    "            if tn < old_tn:\n",
    "                low = k\n",
    "                low_tn = tn\n",
    "                \n",
    "                if fp > high_fp:\n",
    "                    high_fp = fp\n",
    "                    high_k = k\n",
    "            if tn > old_tn:\n",
    "                high = k\n",
    "                \n",
    "                if tn < low_tn:\n",
    "                    low_tn = tn\n",
    "                    low_k = k\n",
    "        else:\n",
    "            if tn > low_tn:\n",
    "                high = k\n",
    "                low_k = low\n",
    "            if fp < high_fp:\n",
    "                high_k = k\n",
    "                      \n",
    "        old_tn = tn\n",
    "        old_fp = fp\n",
    "        \n",
    "        if plot:\n",
    "            points_x.append(fpr)\n",
    "            points_y.append(rec)\n",
    "    \n",
    "    if plot:\n",
    "        fig = plt.figure(figsize=(6,6))\n",
    "        ax = fig.add_subplot(111)\n",
    "\n",
    "        p, r = get_dodge_pareto(filename)\n",
    "        ax.scatter(points_x, points_y, c='red', alpha=0.4, marker='s', label='B-SVM')\n",
    "        ax.scatter(p, r, c='blue', alpha=0.25, marker='o', label='DODGE')\n",
    "        ax.set_xlabel('pf')\n",
    "        ax.set_ylabel('recall')\n",
    "        ax.set_title(filename)\n",
    "        ax.legend()"
   ]
  },
  {
   "cell_type": "code",
   "execution_count": null,
   "metadata": {},
   "outputs": [],
   "source": []
  },
  {
   "cell_type": "code",
   "execution_count": null,
   "metadata": {},
   "outputs": [
    {
     "name": "stdout",
     "output_type": "stream",
     "text": [
      "debug: weight = 4.455696202531645\n",
      "it 1: k = 0.5 | pf = 0.46153846153846156 | rec = 0.65 | tn = 168 | fp = 144\n",
      "it 2: k = 0.3 | pf = 0.8076923076923077 | rec = 0.85 | tn = 60 | fp = 252\n",
      "it 3: k = 0.4 | pf = 0.6698717948717948 | rec = 0.775 | tn = 103 | fp = 209\n"
     ]
    }
   ],
   "source": [
    "tune('ivy', plot=True, n_iter=13, C=1.)"
   ]
  },
  {
   "cell_type": "code",
   "execution_count": 13,
   "metadata": {},
   "outputs": [
    {
     "name": "stdout",
     "output_type": "stream",
     "text": [
      "debug: weight = 4.455696202531645\n",
      "it 1: k = 0.5 | pf = 0.46153846153846156 | rec = 0.65 | tn = 168 | fp = 144\n",
      "it 2: k = 0.3 | pf = 0.8076923076923077 | rec = 0.85 | tn = 60 | fp = 252\n",
      "it 3: k = 0.4 | pf = 0.6698717948717948 | rec = 0.775 | tn = 103 | fp = 209\n",
      "it 4: k = 0.35 | pf = 0.7596153846153846 | rec = 0.825 | tn = 75 | fp = 237\n",
      "it 5: k = 0.375 | pf = 0.7115384615384616 | rec = 0.825 | tn = 90 | fp = 222\n",
      "it 6: k = 0.3625 | pf = 0.7403846153846154 | rec = 0.825 | tn = 81 | fp = 231\n",
      "it 7: k = 0.36875 | pf = 0.7243589743589743 | rec = 0.825 | tn = 86 | fp = 226\n",
      "it 8: k = 0.365625 | pf = 0.7339743589743589 | rec = 0.825 | tn = 83 | fp = 229\n",
      "it 9: k = 0.3671875 | pf = 0.7243589743589743 | rec = 0.825 | tn = 86 | fp = 226\n",
      "it 10: k = 0.36640625 | pf = 0.7307692307692307 | rec = 0.825 | tn = 84 | fp = 228\n",
      "it 11: k = 0.366796875 | pf = 0.7275641025641025 | rec = 0.825 | tn = 85 | fp = 227\n",
      "it 12: k = 0.3666015625 | pf = 0.7275641025641025 | rec = 0.825 | tn = 85 | fp = 227\n",
      "it 13: k = 0.36650390624999996 | pf = 0.7307692307692307 | rec = 0.825 | tn = 84 | fp = 228\n"
     ]
    },
    {
     "data": {
      "image/png": "[encoded data removed]",
      "text/plain": [
       "<Figure size 432x432 with 1 Axes>"
      ]
     },
     "metadata": {
      "needs_background": "light"
     },
     "output_type": "display_data"
    }
   ],
   "source": [
    "tune('ivy', n_iter=13, C=10.)"
   ]
  },
  {
   "cell_type": "code",
   "execution_count": 14,
   "metadata": {},
   "outputs": [
    {
     "name": "stdout",
     "output_type": "stream",
     "text": [
      "debug: weight = 4.455696202531645\n",
      "it 1: k = 0.5 | pf = 0.46153846153846156 | rec = 0.65 | tn = 168 | fp = 144\n",
      "it 2: k = 0.3 | pf = 0.8076923076923077 | rec = 0.85 | tn = 60 | fp = 252\n",
      "it 3: k = 0.4 | pf = 0.6698717948717948 | rec = 0.775 | tn = 103 | fp = 209\n",
      "it 4: k = 0.35 | pf = 0.7596153846153846 | rec = 0.825 | tn = 75 | fp = 237\n",
      "it 5: k = 0.375 | pf = 0.7115384615384616 | rec = 0.825 | tn = 90 | fp = 222\n",
      "it 6: k = 0.3625 | pf = 0.7403846153846154 | rec = 0.825 | tn = 81 | fp = 231\n",
      "it 7: k = 0.36875 | pf = 0.7243589743589743 | rec = 0.825 | tn = 86 | fp = 226\n",
      "it 8: k = 0.365625 | pf = 0.7339743589743589 | rec = 0.825 | tn = 83 | fp = 229\n",
      "it 9: k = 0.3671875 | pf = 0.7243589743589743 | rec = 0.825 | tn = 86 | fp = 226\n",
      "it 10: k = 0.36640625 | pf = 0.7307692307692307 | rec = 0.825 | tn = 84 | fp = 228\n",
      "it 11: k = 0.366796875 | pf = 0.7243589743589743 | rec = 0.825 | tn = 86 | fp = 226\n",
      "it 12: k = 0.3666015625 | pf = 0.7275641025641025 | rec = 0.825 | tn = 85 | fp = 227\n"
     ]
    },
    {
     "data": {
      "image/png": "[encoded data removed]",
      "text/plain": [
       "<Figure size 432x432 with 1 Axes>"
      ]
     },
     "metadata": {
      "needs_background": "light"
     },
     "output_type": "display_data"
    }
   ],
   "source": [
    "tune('ivy', n_iter=12, C=100.)"
   ]
  },
  {
   "cell_type": "code",
   "execution_count": 54,
   "metadata": {},
   "outputs": [
    {
     "name": "stdout",
     "output_type": "stream",
     "text": [
      "tn, fp, fn, tp = 312 0 40 0\n",
      "Biased SVM results:\n",
      "Recall = 0.0\n",
      "Precision = 0.0\n",
      "False alarm = 0.0\n",
      "d2h = 0.7071067811865475\n",
      "popt20 = 0.277\n"
     ]
    },
    {
     "name": "stderr",
     "output_type": "stream",
     "text": [
      "/Users/ryedida/opt/anaconda3/lib/python3.7/site-packages/pandas/core/indexing.py:376: SettingWithCopyWarning: \n",
      "A value is trying to be set on a copy of a slice from a DataFrame.\n",
      "Try using .loc[row_indexer,col_indexer] = value instead\n",
      "\n",
      "See the caveats in the documentation: http://pandas.pydata.org/pandas-docs/stable/user_guide/indexing.html#returning-a-view-versus-a-copy\n",
      "  self.obj[key] = _infer_fill_value(value)\n",
      "/Users/ryedida/opt/anaconda3/lib/python3.7/site-packages/pandas/core/indexing.py:494: SettingWithCopyWarning: \n",
      "A value is trying to be set on a copy of a slice from a DataFrame.\n",
      "Try using .loc[row_indexer,col_indexer] = value instead\n",
      "\n",
      "See the caveats in the documentation: http://pandas.pydata.org/pandas-docs/stable/user_guide/indexing.html#returning-a-view-versus-a-copy\n",
      "  self.obj[item] = s\n",
      "/Users/ryedida/opt/anaconda3/lib/python3.7/site-packages/sklearn/metrics/classification.py:1437: UndefinedMetricWarning: Precision is ill-defined and being set to 0.0 due to no predicted samples.\n",
      "  'precision', 'predicted', average, warn_for)\n",
      "/Users/ryedida/opt/anaconda3/lib/python3.7/site-packages/ipykernel_launcher.py:19: SettingWithCopyWarning: \n",
      "A value is trying to be set on a copy of a slice from a DataFrame\n",
      "\n",
      "See the caveats in the documentation: http://pandas.pydata.org/pandas-docs/stable/user_guide/indexing.html#returning-a-view-versus-a-copy\n",
      "/Users/ryedida/opt/anaconda3/lib/python3.7/site-packages/ipykernel_launcher.py:42: SettingWithCopyWarning: \n",
      "A value is trying to be set on a copy of a slice from a DataFrame\n",
      "\n",
      "See the caveats in the documentation: http://pandas.pydata.org/pandas-docs/stable/user_guide/indexing.html#returning-a-view-versus-a-copy\n"
     ]
    }
   ],
   "source": [
    "run_on_dataset('ivy', k=.35)  # linear kernel"
   ]
  },
  {
   "cell_type": "code",
   "execution_count": 146,
   "metadata": {},
   "outputs": [
    {
     "name": "stdout",
     "output_type": "stream",
     "text": [
      "tn, fp, fn, tp = 0 312 0 40\n",
      "Biased SVM results:\n",
      "Recall = 1.0\n",
      "Precision = 0.11363636363636363\n",
      "False alarm = 1.0\n",
      "d2h = 0.7071067811865475\n",
      "popt20 = 0.277\n"
     ]
    },
    {
     "name": "stderr",
     "output_type": "stream",
     "text": [
      "/Users/ryedida/opt/anaconda3/lib/python3.7/site-packages/pandas/core/indexing.py:376: SettingWithCopyWarning: \n",
      "A value is trying to be set on a copy of a slice from a DataFrame.\n",
      "Try using .loc[row_indexer,col_indexer] = value instead\n",
      "\n",
      "See the caveats in the documentation: http://pandas.pydata.org/pandas-docs/stable/user_guide/indexing.html#returning-a-view-versus-a-copy\n",
      "  self.obj[key] = _infer_fill_value(value)\n",
      "/Users/ryedida/opt/anaconda3/lib/python3.7/site-packages/pandas/core/indexing.py:494: SettingWithCopyWarning: \n",
      "A value is trying to be set on a copy of a slice from a DataFrame.\n",
      "Try using .loc[row_indexer,col_indexer] = value instead\n",
      "\n",
      "See the caveats in the documentation: http://pandas.pydata.org/pandas-docs/stable/user_guide/indexing.html#returning-a-view-versus-a-copy\n",
      "  self.obj[item] = s\n",
      "/Users/ryedida/opt/anaconda3/lib/python3.7/site-packages/ipykernel_launcher.py:19: SettingWithCopyWarning: \n",
      "A value is trying to be set on a copy of a slice from a DataFrame\n",
      "\n",
      "See the caveats in the documentation: http://pandas.pydata.org/pandas-docs/stable/user_guide/indexing.html#returning-a-view-versus-a-copy\n",
      "/Users/ryedida/opt/anaconda3/lib/python3.7/site-packages/ipykernel_launcher.py:42: SettingWithCopyWarning: \n",
      "A value is trying to be set on a copy of a slice from a DataFrame\n",
      "\n",
      "See the caveats in the documentation: http://pandas.pydata.org/pandas-docs/stable/user_guide/indexing.html#returning-a-view-versus-a-copy\n"
     ]
    }
   ],
   "source": [
    "run_on_dataset('ivy', kernel=linear_kernel, k=.5)"
   ]
  },
  {
   "cell_type": "code",
   "execution_count": 160,
   "metadata": {},
   "outputs": [
    {
     "name": "stdout",
     "output_type": "stream",
     "text": [
      "tn, fp, fn, tp = 137 0 197 6\n",
      "Biased SVM results:\n",
      "Recall = 0.029556650246305417\n",
      "Precision = 1.0\n",
      "False alarm = 0.0\n",
      "d2h = 0.686207073368226\n",
      "popt20 = 0.019\n"
     ]
    },
    {
     "name": "stderr",
     "output_type": "stream",
     "text": [
      "/Users/ryedida/opt/anaconda3/lib/python3.7/site-packages/ipykernel_launcher.py:19: SettingWithCopyWarning: \n",
      "A value is trying to be set on a copy of a slice from a DataFrame\n",
      "\n",
      "See the caveats in the documentation: http://pandas.pydata.org/pandas-docs/stable/user_guide/indexing.html#returning-a-view-versus-a-copy\n",
      "/Users/ryedida/opt/anaconda3/lib/python3.7/site-packages/ipykernel_launcher.py:42: SettingWithCopyWarning: \n",
      "A value is trying to be set on a copy of a slice from a DataFrame\n",
      "\n",
      "See the caveats in the documentation: http://pandas.pydata.org/pandas-docs/stable/user_guide/indexing.html#returning-a-view-versus-a-copy\n"
     ]
    }
   ],
   "source": [
    "run_on_dataset('lucene', kernel=linear_kernel, k=.800000001)"
   ]
  },
  {
   "cell_type": "code",
   "execution_count": 18,
   "metadata": {},
   "outputs": [
    {
     "name": "stdout",
     "output_type": "stream",
     "text": [
      "debug: weight = 1.8808510638297873\n",
      "it 1: k = 0.5 | pf = 0.0 | rec = 0.0 | tn = 137 | fp = 0\n",
      "it 2: k = 0.3 | pf = 1.0 | rec = 1.0 | tn = 0 | fp = 137\n",
      "it 3: k = 0.4 | pf = 0.0 | rec = 0.0 | tn = 137 | fp = 0\n",
      "it 4: k = 0.35 | pf = 0.0 | rec = 0.0049261083743842365 | tn = 137 | fp = 0\n",
      "it 5: k = 0.32499999999999996 | pf = 1.0 | rec = 1.0 | tn = 0 | fp = 137\n",
      "it 6: k = 0.33749999999999997 | pf = 0.0 | rec = 0.019704433497536946 | tn = 137 | fp = 0\n",
      "it 7: k = 0.33124999999999993 | pf = 0.7299270072992701 | rec = 0.7980295566502463 | tn = 37 | fp = 100\n",
      "it 8: k = 0.334375 | pf = 0.0 | rec = 0.024630541871921183 | tn = 137 | fp = 0\n",
      "it 9: k = 0.33281249999999996 | pf = 0.0 | rec = 0.024630541871921183 | tn = 137 | fp = 0\n",
      "it 10: k = 0.33203124999999994 | pf = 0.0 | rec = 0.04433497536945813 | tn = 137 | fp = 0\n",
      "it 11: k = 0.3316406249999999 | pf = 0.0 | rec = 0.04926108374384237 | tn = 137 | fp = 0\n",
      "it 12: k = 0.3314453124999999 | pf = 0.0 | rec = 0.029556650246305417 | tn = 137 | fp = 0\n"
     ]
    },
    {
     "data": {
      "image/png": "[encoded data removed]",
      "text/plain": [
       "<Figure size 432x432 with 1 Axes>"
      ]
     },
     "metadata": {
      "needs_background": "light"
     },
     "output_type": "display_data"
    }
   ],
   "source": [
    "tune('lucene', n_iter=12, C=1e5)"
   ]
  },
  {
   "cell_type": "code",
   "execution_count": 66,
   "metadata": {},
   "outputs": [
    {
     "name": "stdout",
     "output_type": "stream",
     "text": [
      "tn, fp, fn, tp = 0 137 2 201\n",
      "Biased SVM results:\n",
      "Recall = 0.9901477832512315\n",
      "Precision = 0.5946745562130178\n",
      "False alarm = 1.0\n",
      "d2h = 0.7071410984290422\n",
      "popt20 = 0.802\n"
     ]
    },
    {
     "name": "stderr",
     "output_type": "stream",
     "text": [
      "/Users/ryedida/opt/anaconda3/lib/python3.7/site-packages/ipykernel_launcher.py:19: SettingWithCopyWarning: \n",
      "A value is trying to be set on a copy of a slice from a DataFrame\n",
      "\n",
      "See the caveats in the documentation: http://pandas.pydata.org/pandas-docs/stable/user_guide/indexing.html#returning-a-view-versus-a-copy\n",
      "/Users/ryedida/opt/anaconda3/lib/python3.7/site-packages/ipykernel_launcher.py:42: SettingWithCopyWarning: \n",
      "A value is trying to be set on a copy of a slice from a DataFrame\n",
      "\n",
      "See the caveats in the documentation: http://pandas.pydata.org/pandas-docs/stable/user_guide/indexing.html#returning-a-view-versus-a-copy\n"
     ]
    }
   ],
   "source": [
    "run_on_dataset('lucene', kernel=polynomial_kernel(2.), k=.56)"
   ]
  },
  {
   "cell_type": "code",
   "execution_count": 200,
   "metadata": {},
   "outputs": [
    {
     "name": "stdout",
     "output_type": "stream",
     "text": [
      "tn, fp, fn, tp = 0 777 0 188\n",
      "Biased SVM results:\n",
      "Recall = 1.0\n",
      "Precision = 0.19481865284974093\n",
      "False alarm = 1.0\n",
      "d2h = 0.7071067811865475\n",
      "popt20 = 0.536\n"
     ]
    },
    {
     "name": "stderr",
     "output_type": "stream",
     "text": [
      "/Users/ryedida/opt/anaconda3/lib/python3.7/site-packages/ipykernel_launcher.py:19: SettingWithCopyWarning: \n",
      "A value is trying to be set on a copy of a slice from a DataFrame\n",
      "\n",
      "See the caveats in the documentation: http://pandas.pydata.org/pandas-docs/stable/user_guide/indexing.html#returning-a-view-versus-a-copy\n",
      "/Users/ryedida/opt/anaconda3/lib/python3.7/site-packages/ipykernel_launcher.py:42: SettingWithCopyWarning: \n",
      "A value is trying to be set on a copy of a slice from a DataFrame\n",
      "\n",
      "See the caveats in the documentation: http://pandas.pydata.org/pandas-docs/stable/user_guide/indexing.html#returning-a-view-versus-a-copy\n"
     ]
    }
   ],
   "source": [
    "run_on_dataset('camel')"
   ]
  },
  {
   "cell_type": "code",
   "execution_count": 23,
   "metadata": {},
   "outputs": [
    {
     "name": "stdout",
     "output_type": "stream",
     "text": [
      "debug: weight = 4.863636363636363\n",
      "it 1: k = 0.5 | pf = 0.0 | rec = 0.0 | tn = 777 | fp = 0\n",
      "it 2: k = 0.3 | pf = 1.0 | rec = 1.0 | tn = 0 | fp = 777\n",
      "it 3: k = 0.4 | pf = 0.0 | rec = 0.0 | tn = 777 | fp = 0\n",
      "it 4: k = 0.35 | pf = 0.0 | rec = 0.0 | tn = 777 | fp = 0\n",
      "it 5: k = 0.32499999999999996 | pf = 1.0 | rec = 1.0 | tn = 0 | fp = 777\n",
      "it 6: k = 0.33749999999999997 | pf = 0.0 | rec = 0.0 | tn = 777 | fp = 0\n",
      "it 7: k = 0.33124999999999993 | pf = 1.0 | rec = 1.0 | tn = 0 | fp = 777\n",
      "it 8: k = 0.334375 | pf = 0.0 | rec = 0.0 | tn = 777 | fp = 0\n",
      "it 9: k = 0.33281249999999996 | pf = 1.0 | rec = 1.0 | tn = 0 | fp = 777\n",
      "it 10: k = 0.33359374999999997 | pf = 0.0 | rec = 0.0 | tn = 777 | fp = 0\n",
      "it 11: k = 0.33320312499999993 | pf = 1.0 | rec = 1.0 | tn = 0 | fp = 777\n",
      "it 12: k = 0.3333984375 | pf = 0.0 | rec = 0.0 | tn = 777 | fp = 0\n"
     ]
    },
    {
     "data": {
      "image/png": "[encoded data removed]",
      "text/plain": [
       "<Figure size 432x432 with 1 Axes>"
      ]
     },
     "metadata": {
      "needs_background": "light"
     },
     "output_type": "display_data"
    }
   ],
   "source": [
    "tune('camel', n_iter=12, C=1., end=.9, start=.1)"
   ]
  },
  {
   "cell_type": "code",
   "execution_count": 201,
   "metadata": {},
   "outputs": [
    {
     "name": "stdout",
     "output_type": "stream",
     "text": [
      "tn, fp, fn, tp = 0 16 0 189\n",
      "Biased SVM results:\n",
      "Recall = 1.0\n",
      "Precision = 0.9219512195121952\n",
      "False alarm = 1.0\n",
      "d2h = 0.7071067811865475\n",
      "popt20 = 0.989\n"
     ]
    },
    {
     "name": "stderr",
     "output_type": "stream",
     "text": [
      "/Users/ryedida/opt/anaconda3/lib/python3.7/site-packages/ipykernel_launcher.py:19: SettingWithCopyWarning: \n",
      "A value is trying to be set on a copy of a slice from a DataFrame\n",
      "\n",
      "See the caveats in the documentation: http://pandas.pydata.org/pandas-docs/stable/user_guide/indexing.html#returning-a-view-versus-a-copy\n",
      "/Users/ryedida/opt/anaconda3/lib/python3.7/site-packages/ipykernel_launcher.py:42: SettingWithCopyWarning: \n",
      "A value is trying to be set on a copy of a slice from a DataFrame\n",
      "\n",
      "See the caveats in the documentation: http://pandas.pydata.org/pandas-docs/stable/user_guide/indexing.html#returning-a-view-versus-a-copy\n"
     ]
    }
   ],
   "source": [
    "run_on_dataset('log4j')"
   ]
  },
  {
   "cell_type": "code",
   "execution_count": 29,
   "metadata": {},
   "outputs": [
    {
     "name": "stdout",
     "output_type": "stream",
     "text": [
      "debug: weight = 3.4366197183098595\n",
      "it 1: k = 0.5 | pf = 0.125 | rec = 0.3386243386243386 | tn = 14 | fp = 2\n",
      "it 2: k = 0.3 | pf = 0.25 | rec = 0.5026455026455027 | tn = 12 | fp = 4\n",
      "it 3: k = 0.4 | pf = 0.1875 | rec = 0.42857142857142855 | tn = 13 | fp = 3\n",
      "it 4: k = 0.35 | pf = 0.25 | rec = 0.4603174603174603 | tn = 12 | fp = 4\n",
      "it 5: k = 0.375 | pf = 0.1875 | rec = 0.43386243386243384 | tn = 13 | fp = 3\n",
      "it 6: k = 0.3625 | pf = 0.25 | rec = 0.43915343915343913 | tn = 12 | fp = 4\n",
      "it 7: k = 0.36875 | pf = 0.25 | rec = 0.43915343915343913 | tn = 12 | fp = 4\n",
      "it 8: k = 0.36875 | pf = 0.25 | rec = 0.43915343915343913 | tn = 12 | fp = 4\n",
      "it 9: k = 0.36875 | pf = 0.25 | rec = 0.43915343915343913 | tn = 12 | fp = 4\n",
      "it 10: k = 0.36875 | pf = 0.25 | rec = 0.43915343915343913 | tn = 12 | fp = 4\n",
      "it 11: k = 0.36875 | pf = 0.25 | rec = 0.43915343915343913 | tn = 12 | fp = 4\n",
      "it 12: k = 0.36875 | pf = 0.25 | rec = 0.43915343915343913 | tn = 12 | fp = 4\n",
      "it 13: k = 0.36875 | pf = 0.25 | rec = 0.43915343915343913 | tn = 12 | fp = 4\n"
     ]
    },
    {
     "data": {
      "image/png": "[encoded data removed]",
      "text/plain": [
       "<Figure size 432x432 with 1 Axes>"
      ]
     },
     "metadata": {
      "needs_background": "light"
     },
     "output_type": "display_data"
    }
   ],
   "source": [
    "tune('log4j', n_iter=13, C=.4)"
   ]
  },
  {
   "cell_type": "code",
   "execution_count": 33,
   "metadata": {},
   "outputs": [
    {
     "name": "stdout",
     "output_type": "stream",
     "text": [
      "debug: weight = 1.8808510638297873\n",
      "it 1: k = 0.5 | pf = 0.0 | rec = 0.0 | tn = 137 | fp = 0\n",
      "it 2: k = 0.3 | pf = 1.0 | rec = 1.0 | tn = 0 | fp = 137\n",
      "it 3: k = 0.4 | pf = 0.0 | rec = 0.0 | tn = 137 | fp = 0\n",
      "it 4: k = 0.35 | pf = 0.0 | rec = 0.0 | tn = 137 | fp = 0\n",
      "it 5: k = 0.32499999999999996 | pf = 1.0 | rec = 1.0 | tn = 0 | fp = 137\n",
      "it 6: k = 0.33749999999999997 | pf = 0.0 | rec = 0.0 | tn = 137 | fp = 0\n",
      "it 7: k = 0.33124999999999993 | pf = 1.0 | rec = 1.0 | tn = 0 | fp = 137\n",
      "it 8: k = 0.334375 | pf = 0.0 | rec = 0.0 | tn = 137 | fp = 0\n",
      "it 9: k = 0.33281249999999996 | pf = 1.0 | rec = 1.0 | tn = 0 | fp = 137\n",
      "it 10: k = 0.33359374999999997 | pf = 0.0 | rec = 0.0 | tn = 137 | fp = 0\n",
      "it 11: k = 0.33320312499999993 | pf = 1.0 | rec = 1.0 | tn = 0 | fp = 137\n",
      "it 12: k = 0.3333984375 | pf = 0.0 | rec = 0.0 | tn = 137 | fp = 0\n",
      "it 13: k = 0.33330078124999996 | pf = 1.0 | rec = 1.0 | tn = 0 | fp = 137\n",
      "it 14: k = 0.33334960937499997 | pf = 0.0 | rec = 0.0 | tn = 137 | fp = 0\n",
      "it 15: k = 0.33332519531249993 | pf = 1.0 | rec = 1.0 | tn = 0 | fp = 137\n",
      "it 16: k = 0.33333740234375 | pf = 0.0 | rec = 0.019704433497536946 | tn = 137 | fp = 0\n",
      "it 17: k = 0.33333129882812496 | pf = 0.9927007299270073 | rec = 0.9901477832512315 | tn = 1 | fp = 136\n",
      "it 18: k = 0.33333435058593747 | pf = 0.0 | rec = 0.024630541871921183 | tn = 137 | fp = 0\n",
      "it 19: k = 0.3333328247070312 | pf = 0.0 | rec = 0.034482758620689655 | tn = 137 | fp = 0\n",
      "it 20: k = 0.33333206176757807 | pf = 0.9854014598540146 | rec = 0.9605911330049262 | tn = 2 | fp = 135\n"
     ]
    },
    {
     "data": {
      "image/png": "[encoded data removed]",
      "text/plain": [
       "<Figure size 432x432 with 1 Axes>"
      ]
     },
     "metadata": {
      "needs_background": "light"
     },
     "output_type": "display_data"
    }
   ],
   "source": [
    "tune('lucene', n_iter=20, C=100.)"
   ]
  },
  {
   "cell_type": "code",
   "execution_count": 61,
   "metadata": {},
   "outputs": [
    {
     "name": "stdout",
     "output_type": "stream",
     "text": [
      "tn, fp, fn, tp = 0 11 0 898\n",
      "Biased SVM results:\n",
      "Recall = 1.0\n",
      "Precision = 0.9878987898789879\n",
      "False alarm = 1.0\n",
      "d2h = 0.7071067811865475\n"
     ]
    }
   ],
   "source": [
    "run_on_dataset('xalan')"
   ]
  },
  {
   "cell_type": "code",
   "execution_count": 37,
   "metadata": {},
   "outputs": [
    {
     "name": "stdout",
     "output_type": "stream",
     "text": [
      "debug: weight = 2.655286343612335\n"
     ]
    },
    {
     "ename": "KeyboardInterrupt",
     "evalue": "",
     "output_type": "error",
     "traceback": [
      "\u001b[0;31m---------------------------------------------------------------------------\u001b[0m",
      "\u001b[0;31mKeyboardInterrupt\u001b[0m                         Traceback (most recent call last)",
      "\u001b[0;32m<ipython-input-37-dc592220c20e>\u001b[0m in \u001b[0;36m<module>\u001b[0;34m\u001b[0m\n\u001b[0;32m----> 1\u001b[0;31m \u001b[0mtune\u001b[0m\u001b[0;34m(\u001b[0m\u001b[0;34m'xalan'\u001b[0m\u001b[0;34m,\u001b[0m \u001b[0mn_iter\u001b[0m\u001b[0;34m=\u001b[0m\u001b[0;36m15\u001b[0m\u001b[0;34m,\u001b[0m \u001b[0mC\u001b[0m\u001b[0;34m=\u001b[0m\u001b[0;36m1.\u001b[0m\u001b[0;34m)\u001b[0m\u001b[0;34m\u001b[0m\u001b[0;34m\u001b[0m\u001b[0m\n\u001b[0m",
      "\u001b[0;32m<ipython-input-12-ec437678e999>\u001b[0m in \u001b[0;36mtune\u001b[0;34m(filename, start, end, n_iter, plot, C)\u001b[0m\n\u001b[1;32m     34\u001b[0m     \u001b[0;32mfor\u001b[0m \u001b[0mi\u001b[0m \u001b[0;32min\u001b[0m \u001b[0mrange\u001b[0m\u001b[0;34m(\u001b[0m\u001b[0mn_iter\u001b[0m\u001b[0;34m)\u001b[0m\u001b[0;34m:\u001b[0m\u001b[0;34m\u001b[0m\u001b[0;34m\u001b[0m\u001b[0m\n\u001b[1;32m     35\u001b[0m         \u001b[0mk\u001b[0m \u001b[0;34m=\u001b[0m \u001b[0;34m(\u001b[0m\u001b[0mlow\u001b[0m \u001b[0;34m+\u001b[0m \u001b[0mhigh\u001b[0m\u001b[0;34m)\u001b[0m \u001b[0;34m/\u001b[0m \u001b[0;36m2\u001b[0m\u001b[0;34m\u001b[0m\u001b[0;34m\u001b[0m\u001b[0m\n\u001b[0;32m---> 36\u001b[0;31m         \u001b[0mw\u001b[0m\u001b[0;34m,\u001b[0m \u001b[0mb\u001b[0m \u001b[0;34m=\u001b[0m \u001b[0msolve_dual_problem\u001b[0m\u001b[0;34m(\u001b[0m\u001b[0mX_train_fuzzed\u001b[0m\u001b[0;34m,\u001b[0m \u001b[0my_train_fuzzed\u001b[0m\u001b[0;34m.\u001b[0m\u001b[0mreshape\u001b[0m\u001b[0;34m(\u001b[0m\u001b[0;34m-\u001b[0m\u001b[0;36m1\u001b[0m\u001b[0;34m,\u001b[0m\u001b[0;36m1\u001b[0m\u001b[0;34m)\u001b[0m\u001b[0;34m,\u001b[0m \u001b[0mk\u001b[0m\u001b[0;34m=\u001b[0m\u001b[0mk\u001b[0m\u001b[0;34m,\u001b[0m \u001b[0mC\u001b[0m\u001b[0;34m=\u001b[0m\u001b[0mC\u001b[0m\u001b[0;34m)\u001b[0m\u001b[0;34m\u001b[0m\u001b[0;34m\u001b[0m\u001b[0m\n\u001b[0m\u001b[1;32m     37\u001b[0m         \u001b[0mpreds\u001b[0m \u001b[0;34m=\u001b[0m \u001b[0;34m(\u001b[0m\u001b[0;34m(\u001b[0m\u001b[0mX_test\u001b[0m \u001b[0;34m@\u001b[0m \u001b[0mw\u001b[0m \u001b[0;34m+\u001b[0m \u001b[0mb\u001b[0m\u001b[0;34m)\u001b[0m \u001b[0;34m>\u001b[0m \u001b[0mk\u001b[0m\u001b[0;34m)\u001b[0m\u001b[0;34m.\u001b[0m\u001b[0mastype\u001b[0m\u001b[0;34m(\u001b[0m\u001b[0;34m'int'\u001b[0m\u001b[0;34m)\u001b[0m\u001b[0;34m.\u001b[0m\u001b[0msqueeze\u001b[0m\u001b[0;34m(\u001b[0m\u001b[0;34m)\u001b[0m\u001b[0;34m\u001b[0m\u001b[0;34m\u001b[0m\u001b[0m\n\u001b[1;32m     38\u001b[0m         \u001b[0mpreds\u001b[0m\u001b[0;34m[\u001b[0m\u001b[0mpreds\u001b[0m \u001b[0;34m==\u001b[0m \u001b[0;36m0\u001b[0m\u001b[0;34m]\u001b[0m \u001b[0;34m=\u001b[0m \u001b[0;34m-\u001b[0m\u001b[0;36m1\u001b[0m\u001b[0;34m\u001b[0m\u001b[0;34m\u001b[0m\u001b[0m\n",
      "\u001b[0;32m<ipython-input-7-18f4c09cd9d7>\u001b[0m in \u001b[0;36msolve_dual_problem\u001b[0;34m(X, y, k, kernel, C)\u001b[0m\n\u001b[1;32m     21\u001b[0m \u001b[0;34m\u001b[0m\u001b[0m\n\u001b[1;32m     22\u001b[0m     \u001b[0mcvxopt_solvers\u001b[0m\u001b[0;34m.\u001b[0m\u001b[0moptions\u001b[0m\u001b[0;34m[\u001b[0m\u001b[0;34m'show_progress'\u001b[0m\u001b[0;34m]\u001b[0m \u001b[0;34m=\u001b[0m \u001b[0;32mFalse\u001b[0m\u001b[0;34m\u001b[0m\u001b[0;34m\u001b[0m\u001b[0m\n\u001b[0;32m---> 23\u001b[0;31m     \u001b[0msol\u001b[0m \u001b[0;34m=\u001b[0m \u001b[0mcvxopt_solvers\u001b[0m\u001b[0;34m.\u001b[0m\u001b[0mqp\u001b[0m\u001b[0;34m(\u001b[0m\u001b[0mP\u001b[0m\u001b[0;34m,\u001b[0m \u001b[0mq\u001b[0m\u001b[0;34m,\u001b[0m \u001b[0mG\u001b[0m\u001b[0;34m,\u001b[0m \u001b[0mh\u001b[0m\u001b[0;34m,\u001b[0m \u001b[0mA\u001b[0m\u001b[0;34m,\u001b[0m \u001b[0mb\u001b[0m\u001b[0;34m)\u001b[0m\u001b[0;34m\u001b[0m\u001b[0;34m\u001b[0m\u001b[0m\n\u001b[0m\u001b[1;32m     24\u001b[0m     \u001b[0mlambd\u001b[0m \u001b[0;34m=\u001b[0m \u001b[0mnp\u001b[0m\u001b[0;34m.\u001b[0m\u001b[0marray\u001b[0m\u001b[0;34m(\u001b[0m\u001b[0msol\u001b[0m\u001b[0;34m[\u001b[0m\u001b[0;34m'x'\u001b[0m\u001b[0;34m]\u001b[0m\u001b[0;34m)\u001b[0m\u001b[0;34m\u001b[0m\u001b[0;34m\u001b[0m\u001b[0m\n\u001b[1;32m     25\u001b[0m     \u001b[0my\u001b[0m\u001b[0;34m=\u001b[0m\u001b[0my\u001b[0m\u001b[0;34m.\u001b[0m\u001b[0mT\u001b[0m\u001b[0;34m\u001b[0m\u001b[0;34m\u001b[0m\u001b[0m\n",
      "\u001b[0;32m~/opt/anaconda3/lib/python3.7/site-packages/cvxopt/coneprog.py\u001b[0m in \u001b[0;36mqp\u001b[0;34m(P, q, G, h, A, b, solver, kktsolver, initvals, **kwargs)\u001b[0m\n\u001b[1;32m   4485\u001b[0m             'residual as dual infeasibility certificate': dinfres}\n\u001b[1;32m   4486\u001b[0m \u001b[0;34m\u001b[0m\u001b[0m\n\u001b[0;32m-> 4487\u001b[0;31m     \u001b[0;32mreturn\u001b[0m \u001b[0mconeqp\u001b[0m\u001b[0;34m(\u001b[0m\u001b[0mP\u001b[0m\u001b[0;34m,\u001b[0m \u001b[0mq\u001b[0m\u001b[0;34m,\u001b[0m \u001b[0mG\u001b[0m\u001b[0;34m,\u001b[0m \u001b[0mh\u001b[0m\u001b[0;34m,\u001b[0m \u001b[0;32mNone\u001b[0m\u001b[0;34m,\u001b[0m \u001b[0mA\u001b[0m\u001b[0;34m,\u001b[0m  \u001b[0mb\u001b[0m\u001b[0;34m,\u001b[0m \u001b[0minitvals\u001b[0m\u001b[0;34m,\u001b[0m \u001b[0mkktsolver\u001b[0m \u001b[0;34m=\u001b[0m \u001b[0mkktsolver\u001b[0m\u001b[0;34m,\u001b[0m \u001b[0moptions\u001b[0m \u001b[0;34m=\u001b[0m \u001b[0moptions\u001b[0m\u001b[0;34m)\u001b[0m\u001b[0;34m\u001b[0m\u001b[0;34m\u001b[0m\u001b[0m\n\u001b[0m",
      "\u001b[0;32m~/opt/anaconda3/lib/python3.7/site-packages/cvxopt/coneprog.py\u001b[0m in \u001b[0;36mconeqp\u001b[0;34m(P, q, G, h, dims, A, b, initvals, kktsolver, xnewcopy, xdot, xaxpy, xscal, ynewcopy, ydot, yaxpy, yscal, **kwargs)\u001b[0m\n\u001b[1;32m   2254\u001b[0m         \u001b[0;31m# On exit, they contain ux, uy, uz.\u001b[0m\u001b[0;34m\u001b[0m\u001b[0;34m\u001b[0m\u001b[0;34m\u001b[0m\u001b[0m\n\u001b[1;32m   2255\u001b[0m \u001b[0;34m\u001b[0m\u001b[0m\n\u001b[0;32m-> 2256\u001b[0;31m         \u001b[0;32mtry\u001b[0m\u001b[0;34m:\u001b[0m \u001b[0mf3\u001b[0m \u001b[0;34m=\u001b[0m \u001b[0mkktsolver\u001b[0m\u001b[0;34m(\u001b[0m\u001b[0mW\u001b[0m\u001b[0;34m)\u001b[0m\u001b[0;34m\u001b[0m\u001b[0;34m\u001b[0m\u001b[0m\n\u001b[0m\u001b[1;32m   2257\u001b[0m         \u001b[0;32mexcept\u001b[0m \u001b[0mArithmeticError\u001b[0m\u001b[0;34m:\u001b[0m\u001b[0;34m\u001b[0m\u001b[0;34m\u001b[0m\u001b[0m\n\u001b[1;32m   2258\u001b[0m             \u001b[0;32mif\u001b[0m \u001b[0miters\u001b[0m \u001b[0;34m==\u001b[0m \u001b[0;36m0\u001b[0m\u001b[0;34m:\u001b[0m\u001b[0;34m\u001b[0m\u001b[0;34m\u001b[0m\u001b[0m\n",
      "\u001b[0;32m~/opt/anaconda3/lib/python3.7/site-packages/cvxopt/coneprog.py\u001b[0m in \u001b[0;36mkktsolver\u001b[0;34m(W)\u001b[0m\n\u001b[1;32m   1979\u001b[0m              \u001b[0mfactor\u001b[0m \u001b[0;34m=\u001b[0m \u001b[0mmisc\u001b[0m\u001b[0;34m.\u001b[0m\u001b[0mkkt_chol2\u001b[0m\u001b[0;34m(\u001b[0m\u001b[0mG\u001b[0m\u001b[0;34m,\u001b[0m \u001b[0mdims\u001b[0m\u001b[0;34m,\u001b[0m \u001b[0mA\u001b[0m\u001b[0;34m)\u001b[0m\u001b[0;34m\u001b[0m\u001b[0;34m\u001b[0m\u001b[0m\n\u001b[1;32m   1980\u001b[0m          \u001b[0;32mdef\u001b[0m \u001b[0mkktsolver\u001b[0m\u001b[0;34m(\u001b[0m\u001b[0mW\u001b[0m\u001b[0;34m)\u001b[0m\u001b[0;34m:\u001b[0m\u001b[0;34m\u001b[0m\u001b[0;34m\u001b[0m\u001b[0m\n\u001b[0;32m-> 1981\u001b[0;31m              \u001b[0;32mreturn\u001b[0m \u001b[0mfactor\u001b[0m\u001b[0;34m(\u001b[0m\u001b[0mW\u001b[0m\u001b[0;34m,\u001b[0m \u001b[0mP\u001b[0m\u001b[0;34m)\u001b[0m\u001b[0;34m\u001b[0m\u001b[0;34m\u001b[0m\u001b[0m\n\u001b[0m\u001b[1;32m   1982\u001b[0m \u001b[0;34m\u001b[0m\u001b[0m\n\u001b[1;32m   1983\u001b[0m     \u001b[0;32mif\u001b[0m \u001b[0mxnewcopy\u001b[0m \u001b[0;32mis\u001b[0m \u001b[0;32mNone\u001b[0m\u001b[0;34m:\u001b[0m \u001b[0mxnewcopy\u001b[0m \u001b[0;34m=\u001b[0m \u001b[0mmatrix\u001b[0m\u001b[0;34m\u001b[0m\u001b[0;34m\u001b[0m\u001b[0m\n",
      "\u001b[0;32m~/opt/anaconda3/lib/python3.7/site-packages/cvxopt/misc.py\u001b[0m in \u001b[0;36mfactor\u001b[0;34m(W, H, Df)\u001b[0m\n\u001b[1;32m   1449\u001b[0m \u001b[0;34m\u001b[0m\u001b[0m\n\u001b[1;32m   1450\u001b[0m         \u001b[0;32melse\u001b[0m\u001b[0;34m:\u001b[0m\u001b[0;34m\u001b[0m\u001b[0;34m\u001b[0m\u001b[0m\n\u001b[0;32m-> 1451\u001b[0;31m             \u001b[0mbase\u001b[0m\u001b[0;34m.\u001b[0m\u001b[0msyrk\u001b[0m\u001b[0;34m(\u001b[0m\u001b[0mF\u001b[0m\u001b[0;34m[\u001b[0m\u001b[0;34m'Gs'\u001b[0m\u001b[0;34m]\u001b[0m\u001b[0;34m,\u001b[0m \u001b[0mF\u001b[0m\u001b[0;34m[\u001b[0m\u001b[0;34m'S'\u001b[0m\u001b[0;34m]\u001b[0m\u001b[0;34m,\u001b[0m \u001b[0mtrans\u001b[0m \u001b[0;34m=\u001b[0m \u001b[0;34m'T'\u001b[0m\u001b[0;34m,\u001b[0m \u001b[0mpartial\u001b[0m \u001b[0;34m=\u001b[0m \u001b[0;32mTrue\u001b[0m\u001b[0;34m)\u001b[0m\u001b[0;34m\u001b[0m\u001b[0;34m\u001b[0m\u001b[0m\n\u001b[0m\u001b[1;32m   1452\u001b[0m             if mnl: base.syrk(F['Dfs'], F['S'], trans = 'T', beta = 1.0, \n\u001b[1;32m   1453\u001b[0m                 partial = True)\n",
      "\u001b[0;31mKeyboardInterrupt\u001b[0m: "
     ]
    }
   ],
   "source": [
    "tune('xalan', n_iter=15, C=1.)"
   ]
  },
  {
   "cell_type": "code",
   "execution_count": 14,
   "metadata": {},
   "outputs": [
    {
     "name": "stdout",
     "output_type": "stream",
     "text": [
      "tn, fp, fn, tp = 0 151 0 437\n",
      "Biased SVM results:\n",
      "Recall = 1.0\n",
      "Precision = 0.7431972789115646\n",
      "False alarm = 1.0\n",
      "d2h = 0.7071067811865475\n",
      "popt20 = 0.944\n"
     ]
    },
    {
     "name": "stderr",
     "output_type": "stream",
     "text": [
      "/Users/ryedida/opt/anaconda3/lib/python3.7/site-packages/pandas/core/indexing.py:376: SettingWithCopyWarning: \n",
      "A value is trying to be set on a copy of a slice from a DataFrame.\n",
      "Try using .loc[row_indexer,col_indexer] = value instead\n",
      "\n",
      "See the caveats in the documentation: http://pandas.pydata.org/pandas-docs/stable/user_guide/indexing.html#returning-a-view-versus-a-copy\n",
      "  self.obj[key] = _infer_fill_value(value)\n",
      "/Users/ryedida/opt/anaconda3/lib/python3.7/site-packages/pandas/core/indexing.py:494: SettingWithCopyWarning: \n",
      "A value is trying to be set on a copy of a slice from a DataFrame.\n",
      "Try using .loc[row_indexer,col_indexer] = value instead\n",
      "\n",
      "See the caveats in the documentation: http://pandas.pydata.org/pandas-docs/stable/user_guide/indexing.html#returning-a-view-versus-a-copy\n",
      "  self.obj[item] = s\n",
      "/Users/ryedida/opt/anaconda3/lib/python3.7/site-packages/ipykernel_launcher.py:19: SettingWithCopyWarning: \n",
      "A value is trying to be set on a copy of a slice from a DataFrame\n",
      "\n",
      "See the caveats in the documentation: http://pandas.pydata.org/pandas-docs/stable/user_guide/indexing.html#returning-a-view-versus-a-copy\n",
      "/Users/ryedida/opt/anaconda3/lib/python3.7/site-packages/ipykernel_launcher.py:42: SettingWithCopyWarning: \n",
      "A value is trying to be set on a copy of a slice from a DataFrame\n",
      "\n",
      "See the caveats in the documentation: http://pandas.pydata.org/pandas-docs/stable/user_guide/indexing.html#returning-a-view-versus-a-copy\n"
     ]
    }
   ],
   "source": [
    "run_on_dataset('xerces')"
   ]
  },
  {
   "cell_type": "code",
   "execution_count": 35,
   "metadata": {},
   "outputs": [
    {
     "name": "stdout",
     "output_type": "stream",
     "text": [
      "debug: weight = 6.378571428571429\n"
     ]
    },
    {
     "ename": "KeyboardInterrupt",
     "evalue": "",
     "output_type": "error",
     "traceback": [
      "\u001b[0;31m---------------------------------------------------------------------------\u001b[0m",
      "\u001b[0;31mKeyboardInterrupt\u001b[0m                         Traceback (most recent call last)",
      "\u001b[0;32m<ipython-input-35-788a65e770a1>\u001b[0m in \u001b[0;36m<module>\u001b[0;34m\u001b[0m\n\u001b[0;32m----> 1\u001b[0;31m \u001b[0mtune\u001b[0m\u001b[0;34m(\u001b[0m\u001b[0;34m'xerces'\u001b[0m\u001b[0;34m,\u001b[0m \u001b[0mn_iter\u001b[0m\u001b[0;34m=\u001b[0m\u001b[0;36m15\u001b[0m\u001b[0;34m)\u001b[0m\u001b[0;34m\u001b[0m\u001b[0;34m\u001b[0m\u001b[0m\n\u001b[0m",
      "\u001b[0;32m<ipython-input-12-ec437678e999>\u001b[0m in \u001b[0;36mtune\u001b[0;34m(filename, start, end, n_iter, plot, C)\u001b[0m\n\u001b[1;32m     34\u001b[0m     \u001b[0;32mfor\u001b[0m \u001b[0mi\u001b[0m \u001b[0;32min\u001b[0m \u001b[0mrange\u001b[0m\u001b[0;34m(\u001b[0m\u001b[0mn_iter\u001b[0m\u001b[0;34m)\u001b[0m\u001b[0;34m:\u001b[0m\u001b[0;34m\u001b[0m\u001b[0;34m\u001b[0m\u001b[0m\n\u001b[1;32m     35\u001b[0m         \u001b[0mk\u001b[0m \u001b[0;34m=\u001b[0m \u001b[0;34m(\u001b[0m\u001b[0mlow\u001b[0m \u001b[0;34m+\u001b[0m \u001b[0mhigh\u001b[0m\u001b[0;34m)\u001b[0m \u001b[0;34m/\u001b[0m \u001b[0;36m2\u001b[0m\u001b[0;34m\u001b[0m\u001b[0;34m\u001b[0m\u001b[0m\n\u001b[0;32m---> 36\u001b[0;31m         \u001b[0mw\u001b[0m\u001b[0;34m,\u001b[0m \u001b[0mb\u001b[0m \u001b[0;34m=\u001b[0m \u001b[0msolve_dual_problem\u001b[0m\u001b[0;34m(\u001b[0m\u001b[0mX_train_fuzzed\u001b[0m\u001b[0;34m,\u001b[0m \u001b[0my_train_fuzzed\u001b[0m\u001b[0;34m.\u001b[0m\u001b[0mreshape\u001b[0m\u001b[0;34m(\u001b[0m\u001b[0;34m-\u001b[0m\u001b[0;36m1\u001b[0m\u001b[0;34m,\u001b[0m\u001b[0;36m1\u001b[0m\u001b[0;34m)\u001b[0m\u001b[0;34m,\u001b[0m \u001b[0mk\u001b[0m\u001b[0;34m=\u001b[0m\u001b[0mk\u001b[0m\u001b[0;34m,\u001b[0m \u001b[0mC\u001b[0m\u001b[0;34m=\u001b[0m\u001b[0mC\u001b[0m\u001b[0;34m)\u001b[0m\u001b[0;34m\u001b[0m\u001b[0;34m\u001b[0m\u001b[0m\n\u001b[0m\u001b[1;32m     37\u001b[0m         \u001b[0mpreds\u001b[0m \u001b[0;34m=\u001b[0m \u001b[0;34m(\u001b[0m\u001b[0;34m(\u001b[0m\u001b[0mX_test\u001b[0m \u001b[0;34m@\u001b[0m \u001b[0mw\u001b[0m \u001b[0;34m+\u001b[0m \u001b[0mb\u001b[0m\u001b[0;34m)\u001b[0m \u001b[0;34m>\u001b[0m \u001b[0mk\u001b[0m\u001b[0;34m)\u001b[0m\u001b[0;34m.\u001b[0m\u001b[0mastype\u001b[0m\u001b[0;34m(\u001b[0m\u001b[0;34m'int'\u001b[0m\u001b[0;34m)\u001b[0m\u001b[0;34m.\u001b[0m\u001b[0msqueeze\u001b[0m\u001b[0;34m(\u001b[0m\u001b[0;34m)\u001b[0m\u001b[0;34m\u001b[0m\u001b[0;34m\u001b[0m\u001b[0m\n\u001b[1;32m     38\u001b[0m         \u001b[0mpreds\u001b[0m\u001b[0;34m[\u001b[0m\u001b[0mpreds\u001b[0m \u001b[0;34m==\u001b[0m \u001b[0;36m0\u001b[0m\u001b[0;34m]\u001b[0m \u001b[0;34m=\u001b[0m \u001b[0;34m-\u001b[0m\u001b[0;36m1\u001b[0m\u001b[0;34m\u001b[0m\u001b[0;34m\u001b[0m\u001b[0m\n",
      "\u001b[0;32m<ipython-input-7-18f4c09cd9d7>\u001b[0m in \u001b[0;36msolve_dual_problem\u001b[0;34m(X, y, k, kernel, C)\u001b[0m\n\u001b[1;32m     12\u001b[0m     \u001b[0;32mfor\u001b[0m \u001b[0mi\u001b[0m \u001b[0;32min\u001b[0m \u001b[0mrange\u001b[0m\u001b[0;34m(\u001b[0m\u001b[0mm\u001b[0m\u001b[0;34m)\u001b[0m\u001b[0;34m:\u001b[0m\u001b[0;34m\u001b[0m\u001b[0;34m\u001b[0m\u001b[0m\n\u001b[1;32m     13\u001b[0m         \u001b[0;32mfor\u001b[0m \u001b[0mj\u001b[0m \u001b[0;32min\u001b[0m \u001b[0mrange\u001b[0m\u001b[0;34m(\u001b[0m\u001b[0mm\u001b[0m\u001b[0;34m)\u001b[0m\u001b[0;34m:\u001b[0m\u001b[0;34m\u001b[0m\u001b[0;34m\u001b[0m\u001b[0m\n\u001b[0;32m---> 14\u001b[0;31m             \u001b[0mK\u001b[0m\u001b[0;34m[\u001b[0m\u001b[0mi\u001b[0m\u001b[0;34m,\u001b[0m\u001b[0mj\u001b[0m\u001b[0;34m]\u001b[0m \u001b[0;34m=\u001b[0m \u001b[0mkernel\u001b[0m\u001b[0;34m(\u001b[0m\u001b[0mX\u001b[0m\u001b[0;34m[\u001b[0m\u001b[0mi\u001b[0m\u001b[0;34m]\u001b[0m\u001b[0;34m,\u001b[0m \u001b[0mX\u001b[0m\u001b[0;34m[\u001b[0m\u001b[0mj\u001b[0m\u001b[0;34m]\u001b[0m\u001b[0;34m)\u001b[0m\u001b[0;34m\u001b[0m\u001b[0;34m\u001b[0m\u001b[0m\n\u001b[0m\u001b[1;32m     15\u001b[0m \u001b[0;34m\u001b[0m\u001b[0m\n\u001b[1;32m     16\u001b[0m     \u001b[0mP\u001b[0m \u001b[0;34m=\u001b[0m \u001b[0mcvxopt\u001b[0m\u001b[0;34m.\u001b[0m\u001b[0mmatrix\u001b[0m\u001b[0;34m(\u001b[0m\u001b[0mnp\u001b[0m\u001b[0;34m.\u001b[0m\u001b[0mouter\u001b[0m\u001b[0;34m(\u001b[0m\u001b[0my\u001b[0m\u001b[0;34m,\u001b[0m\u001b[0my\u001b[0m\u001b[0;34m)\u001b[0m \u001b[0;34m*\u001b[0m \u001b[0mK\u001b[0m\u001b[0;34m)\u001b[0m\u001b[0;34m\u001b[0m\u001b[0;34m\u001b[0m\u001b[0m\n",
      "\u001b[0;32m<ipython-input-5-69e650314ef8>\u001b[0m in \u001b[0;36mlinear_kernel\u001b[0;34m(x1, x2)\u001b[0m\n\u001b[1;32m      1\u001b[0m \u001b[0;31m# from https://pythonprogramming.net/soft-margin-kernel-cvxopt-svm-machine-learning-tutorial/\u001b[0m\u001b[0;34m\u001b[0m\u001b[0;34m\u001b[0m\u001b[0;34m\u001b[0m\u001b[0m\n\u001b[1;32m      2\u001b[0m \u001b[0;32mdef\u001b[0m \u001b[0mlinear_kernel\u001b[0m\u001b[0;34m(\u001b[0m\u001b[0mx1\u001b[0m\u001b[0;34m,\u001b[0m \u001b[0mx2\u001b[0m\u001b[0;34m)\u001b[0m\u001b[0;34m:\u001b[0m\u001b[0;34m\u001b[0m\u001b[0;34m\u001b[0m\u001b[0m\n\u001b[0;32m----> 3\u001b[0;31m     \u001b[0;32mreturn\u001b[0m \u001b[0mnp\u001b[0m\u001b[0;34m.\u001b[0m\u001b[0mdot\u001b[0m\u001b[0;34m(\u001b[0m\u001b[0mx1\u001b[0m\u001b[0;34m,\u001b[0m \u001b[0mx2\u001b[0m\u001b[0;34m)\u001b[0m\u001b[0;34m\u001b[0m\u001b[0;34m\u001b[0m\u001b[0m\n\u001b[0m\u001b[1;32m      4\u001b[0m \u001b[0;34m\u001b[0m\u001b[0m\n\u001b[1;32m      5\u001b[0m \u001b[0;32mdef\u001b[0m \u001b[0mpolynomial_kernel\u001b[0m\u001b[0;34m(\u001b[0m\u001b[0mp\u001b[0m\u001b[0;34m=\u001b[0m\u001b[0;36m3\u001b[0m\u001b[0;34m)\u001b[0m\u001b[0;34m:\u001b[0m\u001b[0;34m\u001b[0m\u001b[0;34m\u001b[0m\u001b[0m\n",
      "\u001b[0;32m<__array_function__ internals>\u001b[0m in \u001b[0;36mdot\u001b[0;34m(*args, **kwargs)\u001b[0m\n",
      "\u001b[0;32m~/opt/anaconda3/lib/python3.7/site-packages/numpy/core/multiarray.py\u001b[0m in \u001b[0;36mdot\u001b[0;34m(a, b, out)\u001b[0m\n\u001b[1;32m    705\u001b[0m \u001b[0;34m\u001b[0m\u001b[0m\n\u001b[1;32m    706\u001b[0m \u001b[0;34m\u001b[0m\u001b[0m\n\u001b[0;32m--> 707\u001b[0;31m \u001b[0;34m@\u001b[0m\u001b[0marray_function_from_c_func_and_dispatcher\u001b[0m\u001b[0;34m(\u001b[0m\u001b[0m_multiarray_umath\u001b[0m\u001b[0;34m.\u001b[0m\u001b[0mdot\u001b[0m\u001b[0;34m)\u001b[0m\u001b[0;34m\u001b[0m\u001b[0;34m\u001b[0m\u001b[0m\n\u001b[0m\u001b[1;32m    708\u001b[0m \u001b[0;32mdef\u001b[0m \u001b[0mdot\u001b[0m\u001b[0;34m(\u001b[0m\u001b[0ma\u001b[0m\u001b[0;34m,\u001b[0m \u001b[0mb\u001b[0m\u001b[0;34m,\u001b[0m \u001b[0mout\u001b[0m\u001b[0;34m=\u001b[0m\u001b[0;32mNone\u001b[0m\u001b[0;34m)\u001b[0m\u001b[0;34m:\u001b[0m\u001b[0;34m\u001b[0m\u001b[0;34m\u001b[0m\u001b[0m\n\u001b[1;32m    709\u001b[0m     \"\"\"\n",
      "\u001b[0;31mKeyboardInterrupt\u001b[0m: "
     ]
    }
   ],
   "source": [
    "tune('xerces', n_iter=15)"
   ]
  },
  {
   "cell_type": "code",
   "execution_count": 202,
   "metadata": {},
   "outputs": [
    {
     "name": "stdout",
     "output_type": "stream",
     "text": [
      "tn, fp, fn, tp = 0 481 0 11\n",
      "Biased SVM results:\n",
      "Recall = 1.0\n",
      "Precision = 0.022357723577235773\n",
      "False alarm = 1.0\n",
      "d2h = 0.7071067811865475\n",
      "popt20 = 0.386\n"
     ]
    },
    {
     "name": "stderr",
     "output_type": "stream",
     "text": [
      "/Users/ryedida/opt/anaconda3/lib/python3.7/site-packages/ipykernel_launcher.py:19: SettingWithCopyWarning: \n",
      "A value is trying to be set on a copy of a slice from a DataFrame\n",
      "\n",
      "See the caveats in the documentation: http://pandas.pydata.org/pandas-docs/stable/user_guide/indexing.html#returning-a-view-versus-a-copy\n",
      "/Users/ryedida/opt/anaconda3/lib/python3.7/site-packages/ipykernel_launcher.py:42: SettingWithCopyWarning: \n",
      "A value is trying to be set on a copy of a slice from a DataFrame\n",
      "\n",
      "See the caveats in the documentation: http://pandas.pydata.org/pandas-docs/stable/user_guide/indexing.html#returning-a-view-versus-a-copy\n"
     ]
    }
   ],
   "source": [
    "run_on_dataset('jedit')"
   ]
  },
  {
   "cell_type": "code",
   "execution_count": 36,
   "metadata": {},
   "outputs": [
    {
     "name": "stdout",
     "output_type": "stream",
     "text": [
      "debug: weight = 4.304794520547945\n"
     ]
    },
    {
     "ename": "KeyboardInterrupt",
     "evalue": "",
     "output_type": "error",
     "traceback": [
      "\u001b[0;31m---------------------------------------------------------------------------\u001b[0m",
      "\u001b[0;31mKeyboardInterrupt\u001b[0m                         Traceback (most recent call last)",
      "\u001b[0;32m<ipython-input-36-c38e4a9e213b>\u001b[0m in \u001b[0;36m<module>\u001b[0;34m\u001b[0m\n\u001b[0;32m----> 1\u001b[0;31m \u001b[0mtune\u001b[0m\u001b[0;34m(\u001b[0m\u001b[0;34m'jedit'\u001b[0m\u001b[0;34m,\u001b[0m \u001b[0mn_iter\u001b[0m\u001b[0;34m=\u001b[0m\u001b[0;36m15\u001b[0m\u001b[0;34m)\u001b[0m\u001b[0;34m\u001b[0m\u001b[0;34m\u001b[0m\u001b[0m\n\u001b[0m",
      "\u001b[0;32m<ipython-input-12-ec437678e999>\u001b[0m in \u001b[0;36mtune\u001b[0;34m(filename, start, end, n_iter, plot, C)\u001b[0m\n\u001b[1;32m     34\u001b[0m     \u001b[0;32mfor\u001b[0m \u001b[0mi\u001b[0m \u001b[0;32min\u001b[0m \u001b[0mrange\u001b[0m\u001b[0;34m(\u001b[0m\u001b[0mn_iter\u001b[0m\u001b[0;34m)\u001b[0m\u001b[0;34m:\u001b[0m\u001b[0;34m\u001b[0m\u001b[0;34m\u001b[0m\u001b[0m\n\u001b[1;32m     35\u001b[0m         \u001b[0mk\u001b[0m \u001b[0;34m=\u001b[0m \u001b[0;34m(\u001b[0m\u001b[0mlow\u001b[0m \u001b[0;34m+\u001b[0m \u001b[0mhigh\u001b[0m\u001b[0;34m)\u001b[0m \u001b[0;34m/\u001b[0m \u001b[0;36m2\u001b[0m\u001b[0;34m\u001b[0m\u001b[0;34m\u001b[0m\u001b[0m\n\u001b[0;32m---> 36\u001b[0;31m         \u001b[0mw\u001b[0m\u001b[0;34m,\u001b[0m \u001b[0mb\u001b[0m \u001b[0;34m=\u001b[0m \u001b[0msolve_dual_problem\u001b[0m\u001b[0;34m(\u001b[0m\u001b[0mX_train_fuzzed\u001b[0m\u001b[0;34m,\u001b[0m \u001b[0my_train_fuzzed\u001b[0m\u001b[0;34m.\u001b[0m\u001b[0mreshape\u001b[0m\u001b[0;34m(\u001b[0m\u001b[0;34m-\u001b[0m\u001b[0;36m1\u001b[0m\u001b[0;34m,\u001b[0m\u001b[0;36m1\u001b[0m\u001b[0;34m)\u001b[0m\u001b[0;34m,\u001b[0m \u001b[0mk\u001b[0m\u001b[0;34m=\u001b[0m\u001b[0mk\u001b[0m\u001b[0;34m,\u001b[0m \u001b[0mC\u001b[0m\u001b[0;34m=\u001b[0m\u001b[0mC\u001b[0m\u001b[0;34m)\u001b[0m\u001b[0;34m\u001b[0m\u001b[0;34m\u001b[0m\u001b[0m\n\u001b[0m\u001b[1;32m     37\u001b[0m         \u001b[0mpreds\u001b[0m \u001b[0;34m=\u001b[0m \u001b[0;34m(\u001b[0m\u001b[0;34m(\u001b[0m\u001b[0mX_test\u001b[0m \u001b[0;34m@\u001b[0m \u001b[0mw\u001b[0m \u001b[0;34m+\u001b[0m \u001b[0mb\u001b[0m\u001b[0;34m)\u001b[0m \u001b[0;34m>\u001b[0m \u001b[0mk\u001b[0m\u001b[0;34m)\u001b[0m\u001b[0;34m.\u001b[0m\u001b[0mastype\u001b[0m\u001b[0;34m(\u001b[0m\u001b[0;34m'int'\u001b[0m\u001b[0;34m)\u001b[0m\u001b[0;34m.\u001b[0m\u001b[0msqueeze\u001b[0m\u001b[0;34m(\u001b[0m\u001b[0;34m)\u001b[0m\u001b[0;34m\u001b[0m\u001b[0;34m\u001b[0m\u001b[0m\n\u001b[1;32m     38\u001b[0m         \u001b[0mpreds\u001b[0m\u001b[0;34m[\u001b[0m\u001b[0mpreds\u001b[0m \u001b[0;34m==\u001b[0m \u001b[0;36m0\u001b[0m\u001b[0;34m]\u001b[0m \u001b[0;34m=\u001b[0m \u001b[0;34m-\u001b[0m\u001b[0;36m1\u001b[0m\u001b[0;34m\u001b[0m\u001b[0;34m\u001b[0m\u001b[0m\n",
      "\u001b[0;32m<ipython-input-7-18f4c09cd9d7>\u001b[0m in \u001b[0;36msolve_dual_problem\u001b[0;34m(X, y, k, kernel, C)\u001b[0m\n\u001b[1;32m     12\u001b[0m     \u001b[0;32mfor\u001b[0m \u001b[0mi\u001b[0m \u001b[0;32min\u001b[0m \u001b[0mrange\u001b[0m\u001b[0;34m(\u001b[0m\u001b[0mm\u001b[0m\u001b[0;34m)\u001b[0m\u001b[0;34m:\u001b[0m\u001b[0;34m\u001b[0m\u001b[0;34m\u001b[0m\u001b[0m\n\u001b[1;32m     13\u001b[0m         \u001b[0;32mfor\u001b[0m \u001b[0mj\u001b[0m \u001b[0;32min\u001b[0m \u001b[0mrange\u001b[0m\u001b[0;34m(\u001b[0m\u001b[0mm\u001b[0m\u001b[0;34m)\u001b[0m\u001b[0;34m:\u001b[0m\u001b[0;34m\u001b[0m\u001b[0;34m\u001b[0m\u001b[0m\n\u001b[0;32m---> 14\u001b[0;31m             \u001b[0mK\u001b[0m\u001b[0;34m[\u001b[0m\u001b[0mi\u001b[0m\u001b[0;34m,\u001b[0m\u001b[0mj\u001b[0m\u001b[0;34m]\u001b[0m \u001b[0;34m=\u001b[0m \u001b[0mkernel\u001b[0m\u001b[0;34m(\u001b[0m\u001b[0mX\u001b[0m\u001b[0;34m[\u001b[0m\u001b[0mi\u001b[0m\u001b[0;34m]\u001b[0m\u001b[0;34m,\u001b[0m \u001b[0mX\u001b[0m\u001b[0;34m[\u001b[0m\u001b[0mj\u001b[0m\u001b[0;34m]\u001b[0m\u001b[0;34m)\u001b[0m\u001b[0;34m\u001b[0m\u001b[0;34m\u001b[0m\u001b[0m\n\u001b[0m\u001b[1;32m     15\u001b[0m \u001b[0;34m\u001b[0m\u001b[0m\n\u001b[1;32m     16\u001b[0m     \u001b[0mP\u001b[0m \u001b[0;34m=\u001b[0m \u001b[0mcvxopt\u001b[0m\u001b[0;34m.\u001b[0m\u001b[0mmatrix\u001b[0m\u001b[0;34m(\u001b[0m\u001b[0mnp\u001b[0m\u001b[0;34m.\u001b[0m\u001b[0mouter\u001b[0m\u001b[0;34m(\u001b[0m\u001b[0my\u001b[0m\u001b[0;34m,\u001b[0m\u001b[0my\u001b[0m\u001b[0;34m)\u001b[0m \u001b[0;34m*\u001b[0m \u001b[0mK\u001b[0m\u001b[0;34m)\u001b[0m\u001b[0;34m\u001b[0m\u001b[0;34m\u001b[0m\u001b[0m\n",
      "\u001b[0;32m<ipython-input-5-69e650314ef8>\u001b[0m in \u001b[0;36mlinear_kernel\u001b[0;34m(x1, x2)\u001b[0m\n\u001b[1;32m      1\u001b[0m \u001b[0;31m# from https://pythonprogramming.net/soft-margin-kernel-cvxopt-svm-machine-learning-tutorial/\u001b[0m\u001b[0;34m\u001b[0m\u001b[0;34m\u001b[0m\u001b[0;34m\u001b[0m\u001b[0m\n\u001b[1;32m      2\u001b[0m \u001b[0;32mdef\u001b[0m \u001b[0mlinear_kernel\u001b[0m\u001b[0;34m(\u001b[0m\u001b[0mx1\u001b[0m\u001b[0;34m,\u001b[0m \u001b[0mx2\u001b[0m\u001b[0;34m)\u001b[0m\u001b[0;34m:\u001b[0m\u001b[0;34m\u001b[0m\u001b[0;34m\u001b[0m\u001b[0m\n\u001b[0;32m----> 3\u001b[0;31m     \u001b[0;32mreturn\u001b[0m \u001b[0mnp\u001b[0m\u001b[0;34m.\u001b[0m\u001b[0mdot\u001b[0m\u001b[0;34m(\u001b[0m\u001b[0mx1\u001b[0m\u001b[0;34m,\u001b[0m \u001b[0mx2\u001b[0m\u001b[0;34m)\u001b[0m\u001b[0;34m\u001b[0m\u001b[0;34m\u001b[0m\u001b[0m\n\u001b[0m\u001b[1;32m      4\u001b[0m \u001b[0;34m\u001b[0m\u001b[0m\n\u001b[1;32m      5\u001b[0m \u001b[0;32mdef\u001b[0m \u001b[0mpolynomial_kernel\u001b[0m\u001b[0;34m(\u001b[0m\u001b[0mp\u001b[0m\u001b[0;34m=\u001b[0m\u001b[0;36m3\u001b[0m\u001b[0;34m)\u001b[0m\u001b[0;34m:\u001b[0m\u001b[0;34m\u001b[0m\u001b[0;34m\u001b[0m\u001b[0m\n",
      "\u001b[0;32m<__array_function__ internals>\u001b[0m in \u001b[0;36mdot\u001b[0;34m(*args, **kwargs)\u001b[0m\n",
      "\u001b[0;31mKeyboardInterrupt\u001b[0m: "
     ]
    }
   ],
   "source": [
    "tune('jedit', n_iter=15)"
   ]
  },
  {
   "cell_type": "code",
   "execution_count": 15,
   "metadata": {},
   "outputs": [
    {
     "name": "stdout",
     "output_type": "stream",
     "text": [
      "tn, fp, fn, tp = 0 151 0 78\n",
      "Biased SVM results:\n",
      "Recall = 1.0\n",
      "Precision = 0.3406113537117904\n",
      "False alarm = 1.0\n",
      "d2h = 0.7071067811865475\n",
      "popt20 = 0.637\n"
     ]
    },
    {
     "name": "stderr",
     "output_type": "stream",
     "text": [
      "/Users/ryedida/opt/anaconda3/lib/python3.7/site-packages/ipykernel_launcher.py:19: SettingWithCopyWarning: \n",
      "A value is trying to be set on a copy of a slice from a DataFrame\n",
      "\n",
      "See the caveats in the documentation: http://pandas.pydata.org/pandas-docs/stable/user_guide/indexing.html#returning-a-view-versus-a-copy\n",
      "/Users/ryedida/opt/anaconda3/lib/python3.7/site-packages/ipykernel_launcher.py:42: SettingWithCopyWarning: \n",
      "A value is trying to be set on a copy of a slice from a DataFrame\n",
      "\n",
      "See the caveats in the documentation: http://pandas.pydata.org/pandas-docs/stable/user_guide/indexing.html#returning-a-view-versus-a-copy\n"
     ]
    }
   ],
   "source": [
    "run_on_dataset('velocity')"
   ]
  },
  {
   "cell_type": "code",
   "execution_count": 16,
   "metadata": {},
   "outputs": [
    {
     "name": "stdout",
     "output_type": "stream",
     "text": [
      "tn, fp, fn, tp = 0 170 0 86\n",
      "Biased SVM results:\n",
      "Recall = 1.0\n",
      "Precision = 0.3359375\n",
      "False alarm = 1.0\n",
      "d2h = 0.7071067811865475\n",
      "popt20 = 0.478\n"
     ]
    },
    {
     "name": "stderr",
     "output_type": "stream",
     "text": [
      "/Users/ryedida/opt/anaconda3/lib/python3.7/site-packages/ipykernel_launcher.py:19: SettingWithCopyWarning: \n",
      "A value is trying to be set on a copy of a slice from a DataFrame\n",
      "\n",
      "See the caveats in the documentation: http://pandas.pydata.org/pandas-docs/stable/user_guide/indexing.html#returning-a-view-versus-a-copy\n",
      "/Users/ryedida/opt/anaconda3/lib/python3.7/site-packages/ipykernel_launcher.py:42: SettingWithCopyWarning: \n",
      "A value is trying to be set on a copy of a slice from a DataFrame\n",
      "\n",
      "See the caveats in the documentation: http://pandas.pydata.org/pandas-docs/stable/user_guide/indexing.html#returning-a-view-versus-a-copy\n"
     ]
    }
   ],
   "source": [
    "run_on_dataset('synapse')"
   ]
  },
  {
   "cell_type": "code",
   "execution_count": 17,
   "metadata": {},
   "outputs": [
    {
     "name": "stdout",
     "output_type": "stream",
     "text": [
      "tn, fp, fn, tp = 0 161 0 281\n",
      "Biased SVM results:\n",
      "Recall = 1.0\n",
      "Precision = 0.6357466063348416\n",
      "False alarm = 1.0\n",
      "d2h = 0.7071067811865475\n",
      "popt20 = 0.744\n"
     ]
    },
    {
     "name": "stderr",
     "output_type": "stream",
     "text": [
      "/Users/ryedida/opt/anaconda3/lib/python3.7/site-packages/ipykernel_launcher.py:19: SettingWithCopyWarning: \n",
      "A value is trying to be set on a copy of a slice from a DataFrame\n",
      "\n",
      "See the caveats in the documentation: http://pandas.pydata.org/pandas-docs/stable/user_guide/indexing.html#returning-a-view-versus-a-copy\n",
      "/Users/ryedida/opt/anaconda3/lib/python3.7/site-packages/ipykernel_launcher.py:42: SettingWithCopyWarning: \n",
      "A value is trying to be set on a copy of a slice from a DataFrame\n",
      "\n",
      "See the caveats in the documentation: http://pandas.pydata.org/pandas-docs/stable/user_guide/indexing.html#returning-a-view-versus-a-copy\n"
     ]
    }
   ],
   "source": [
    "run_on_dataset('poi')"
   ]
  },
  {
   "cell_type": "code",
   "execution_count": null,
   "metadata": {},
   "outputs": [],
   "source": []
  }
 ],
 "metadata": {
  "kernelspec": {
   "display_name": "Python 3",
   "language": "python",
   "name": "python3"
  },
  "language_info": {
   "codemirror_mode": {
    "name": "ipython",
    "version": 3
   },
   "file_extension": ".py",
   "mimetype": "text/x-python",
   "name": "python",
   "nbconvert_exporter": "python",
   "pygments_lexer": "ipython3",
   "version": "3.7.4"
  }
 },
 "nbformat": 4,
 "nbformat_minor": 2
}
