{
 "cells": [
  {
   "cell_type": "code",
   "execution_count": 10,
   "metadata": {},
   "outputs": [],
   "source": [
    "import numpy as np\n",
    "import pandas as pd\n",
    "import os\n",
    "from collections import Counter\n",
    "import matplotlib.pyplot as plt\n",
    "import statistics\n",
    "from CFS import cfs\n",
    "import NTK\n",
    "import time\n",
    "import warnings\n",
    "import tools\n",
    "from imblearn.over_sampling import SMOTE\n",
    "\n",
    "# From https://machinelearningmastery.com/sequence-classification-lstm-recurrent-neural-networks-python-keras/\n",
    "# and https://towardsdatascience.com/multi-class-text-classification-with-lstm-1590bee1bd17\n",
    "from sklearn.model_selection import train_test_split\n",
    "from sklearn.preprocessing import label_binarize\n",
    "\n",
    "from sklearn.metrics import confusion_matrix, roc_curve, auc, roc_auc_score, recall_score, classification_report"
   ]
  },
  {
   "cell_type": "code",
   "execution_count": 2,
   "metadata": {},
   "outputs": [],
   "source": [
    "warnings.filterwarnings('ignore')"
   ]
  },
  {
   "cell_type": "code",
   "execution_count": 3,
   "metadata": {},
   "outputs": [],
   "source": [
    "base_path = '../ghost-dl/data/defect/'"
   ]
  },
  {
   "cell_type": "code",
   "execution_count": 4,
   "metadata": {},
   "outputs": [],
   "source": [
    "file_dic = {\"ivy\": [\"ivy-1.1.csv\", \"ivy-1.4.csv\", \"ivy-2.0.csv\"],\n",
    "            \"lucene\": [\"lucene-2.0.csv\", \"lucene-2.2.csv\", \"lucene-2.4.csv\"],\n",
    "            \"poi\": [\"poi-1.5.csv\", \"poi-2.0.csv\", \"poi-2.5.csv\", \"poi-3.0.csv\"],\n",
    "            \"synapse\": [\"synapse-1.0.csv\", \"synapse-1.1.csv\", \"synapse-1.2.csv\"],\n",
    "            \"velocity\": [\"velocity-1.4.csv\", \"velocity-1.5.csv\", \"velocity-1.6.csv\"],\n",
    "            \"camel\": [\"camel-1.0.csv\", \"camel-1.2.csv\", \"camel-1.4.csv\", \"camel-1.6.csv\"],\n",
    "            \"jedit\": [\"jedit-3.2.csv\", \"jedit-4.0.csv\", \"jedit-4.1.csv\", \"jedit-4.2.csv\", \"jedit-4.3.csv\"],\n",
    "            \"log4j\": [\"log4j-1.0.csv\", \"log4j-1.1.csv\", \"log4j-1.2.csv\"],\n",
    "            \"xalan\": [\"xalan-2.4.csv\", \"xalan-2.5.csv\", \"xalan-2.6.csv\", \"xalan-2.7.csv\"],\n",
    "            \"xerces\": [\"xerces-1.2.csv\", \"xerces-1.3.csv\", \"xerces-1.4.csv\"]\n",
    "           }"
   ]
  },
  {
   "cell_type": "code",
   "execution_count": 5,
   "metadata": {},
   "outputs": [],
   "source": [
    "MAX_DEP = 3\n",
    "DEP_LIST = list(range(MAX_DEP))\n",
    "C_LIST = [10.0 ** i for i in range(-2, 3)]\n",
    "alg = tools.svm"
   ]
  },
  {
   "cell_type": "code",
   "execution_count": 17,
   "metadata": {},
   "outputs": [],
   "source": [
    "def run_on_dataset(filename, metric='d2h', epochs=10, layers=4, draw_roc=False, weighted=False):\n",
    "    paths = [os.path.join(base_path, file_name) for file_name in file_dic[filename]]\n",
    "    train_df = pd.concat([pd.read_csv(path) for path in paths[:-1]], ignore_index=True)\n",
    "    test_df = pd.read_csv(paths[-1])\n",
    "    \n",
    "    train_df, test_df = train_df.iloc[:, 3:], test_df.iloc[:, 3:]\n",
    "    train_size = train_df[\"bug\"].count()\n",
    "    df = pd.concat([train_df, test_df], ignore_index=True)\n",
    "    df['bug'] = df['bug'].apply(lambda x: 0 if x == 0 else 1)\n",
    "    \n",
    "    train_data = df.iloc[:train_size, :]\n",
    "    test_data = df.iloc[train_size:, :]\n",
    "    \n",
    "    X_train = train_data[train_data.columns[:-2]]\n",
    "    y_train = train_data['bug']\n",
    "    \n",
    "    cols = X_train.columns[[cfs(X_train.values, y_train.values)]].tolist()\n",
    "    X_train = X_train[cols]\n",
    "    \n",
    "    X_test = test_data[cols]\n",
    "    y_test = test_data['bug']\n",
    "        \n",
    "    train_fold = list(range(len(X_train.index)))\n",
    "    val_fold = list(range(len(X_train.index), len(X_train.index)+len(X_test.index)))\n",
    "    \n",
    "    sm = SMOTE()\n",
    "    X_train, y_train = sm.fit_sample(X_train, y_train)\n",
    "    X_train.reset_index(inplace=True,drop=True)\n",
    "    \n",
    "    train_fold = list(range(len(X_train.index)))\n",
    "    val_fold = list(range(len(X_train.index), len(X_train.index)+len(X_test.index)))\n",
    "    \n",
    "    X_train = np.array(X_train)\n",
    "    Ks = NTK.kernel_value_batch(np.vstack((X_train, X_test)), MAX_DEP)\n",
    "    best_acc = 0.0\n",
    "    best_value = 0\n",
    "    best_dep = 0\n",
    "    best_ker = 0\n",
    "    \n",
    "    y_train = np.hstack((y_train, y_test))\n",
    "    \n",
    "    print(Ks.shape, len(train_fold), len(val_fold))\n",
    "    print(y_train.shape)\n",
    "    \n",
    "    # enumerate kenerls and cost values to find the best hyperparameters\n",
    "    for dep in DEP_LIST:\n",
    "        print('depth:', dep)\n",
    "        for fix_dep in range(dep + 1):\n",
    "            print('|\\tfix_dep:', fix_dep)\n",
    "            K = Ks[dep][fix_dep]\n",
    "            for value in C_LIST:\n",
    "                print('|\\t|\\tC:', value, flush=True)\n",
    "                preds,acc = alg(K[train_fold][:, train_fold], K[val_fold][:, train_fold], y_train[train_fold], y_train[val_fold], value, 2)\n",
    "                if acc > best_acc:\n",
    "                    best_acc = acc\n",
    "                    best_value = value\n",
    "                    best_dep = dep\n",
    "                    best_fix = fix_dep\n",
    "\n",
    "    K = Ks[best_dep][best_fix]\n",
    "    \n",
    "    print (\"best acc:\", best_acc, \"\\tC:\", best_value, \"\\tdep:\", best_dep, \"\\tfix:\", best_fix, flush=True)\n",
    "    print(classification_report(y_test, alg(K[train_fold][:, train_fold], K[val_fold][:, train_fold], y_train[train_fold], y_train[val_fold], best_value, 2)[0]))"
   ]
  },
  {
   "cell_type": "code",
   "execution_count": 18,
   "metadata": {},
   "outputs": [
    {
     "name": "stdout",
     "output_type": "stream",
     "text": [
      "(3, 3, 898, 898) 546 352\n",
      "(898,)\n",
      "depth: 0\n",
      "|\tfix_dep: 0\n",
      "|\t|\tC: 0.01\n",
      "|\t|\tC: 0.1\n",
      "|\t|\tC: 1.0\n",
      "|\t|\tC: 10.0\n",
      "|\t|\tC: 100.0\n",
      "depth: 1\n",
      "|\tfix_dep: 0\n",
      "|\t|\tC: 0.01\n",
      "|\t|\tC: 0.1\n",
      "|\t|\tC: 1.0\n",
      "|\t|\tC: 10.0\n",
      "|\t|\tC: 100.0\n",
      "|\tfix_dep: 1\n",
      "|\t|\tC: 0.01\n",
      "|\t|\tC: 0.1\n",
      "|\t|\tC: 1.0\n",
      "|\t|\tC: 10.0\n",
      "|\t|\tC: 100.0\n",
      "depth: 2\n",
      "|\tfix_dep: 0\n",
      "|\t|\tC: 0.01\n",
      "|\t|\tC: 0.1\n",
      "|\t|\tC: 1.0\n",
      "|\t|\tC: 10.0\n",
      "|\t|\tC: 100.0\n",
      "|\tfix_dep: 1\n",
      "|\t|\tC: 0.01\n",
      "|\t|\tC: 0.1\n",
      "|\t|\tC: 1.0\n",
      "|\t|\tC: 10.0\n",
      "|\t|\tC: 100.0\n",
      "|\tfix_dep: 2\n",
      "|\t|\tC: 0.01\n",
      "|\t|\tC: 0.1\n",
      "|\t|\tC: 1.0\n",
      "|\t|\tC: 10.0\n",
      "|\t|\tC: 100.0\n",
      "best acc: 0.8409090909090909 \tC: 0.01 \tdep: 0 \tfix: 0\n",
      "              precision    recall  f1-score   support\n",
      "\n",
      "           0       0.94      0.87      0.91       312\n",
      "           1       0.38      0.60      0.46        40\n",
      "\n",
      "    accuracy                           0.84       352\n",
      "   macro avg       0.66      0.74      0.68       352\n",
      "weighted avg       0.88      0.84      0.86       352\n",
      "\n"
     ]
    }
   ],
   "source": [
    "run_on_dataset('ivy')"
   ]
  },
  {
   "cell_type": "code",
   "execution_count": null,
   "metadata": {},
   "outputs": [],
   "source": []
  }
 ],
 "metadata": {
  "kernelspec": {
   "display_name": "Python 3",
   "language": "python",
   "name": "python3"
  },
  "language_info": {
   "codemirror_mode": {
    "name": "ipython",
    "version": 3
   },
   "file_extension": ".py",
   "mimetype": "text/x-python",
   "name": "python",
   "nbconvert_exporter": "python",
   "pygments_lexer": "ipython3",
   "version": "3.7.4"
  }
 },
 "nbformat": 4,
 "nbformat_minor": 2
}
