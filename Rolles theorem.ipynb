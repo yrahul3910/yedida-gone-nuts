{
 "cells": [
  {
   "cell_type": "code",
   "execution_count": 63,
   "metadata": {},
   "outputs": [],
   "source": [
    "import pandas as pd\n",
    "import numpy as np\n",
    "from sklearn.svm import SVC\n",
    "import matplotlib.pyplot as plt\n",
    "from raise_utils.metrics import ClassificationMetrics\n",
    "from sklearn.model_selection import train_test_split\n",
    "from sklearn.preprocessing import *\n",
    "from imblearn.over_sampling import SMOTE\n",
    "from sklearn.linear_model import LinearRegression"
   ]
  },
  {
   "cell_type": "code",
   "execution_count": 2,
   "metadata": {},
   "outputs": [
    {
     "name": "stdout",
     "output_type": "stream",
     "text": [
      "camel.csv        deeplearning.csv node.csv\r\n",
      "cloudstack.csv   hadoop.csv       ofbiz.csv\r\n",
      "cocoon.csv       hive.csv         qpid.csv\r\n"
     ]
    }
   ],
   "source": [
    "!ls ../Dodge/data/issue_close_time/14\\ days"
   ]
  },
  {
   "cell_type": "code",
   "execution_count": 26,
   "metadata": {},
   "outputs": [],
   "source": [
    "file = '../Dodge/data/defect/camel-1.2.csv'"
   ]
  },
  {
   "cell_type": "code",
   "execution_count": 27,
   "metadata": {},
   "outputs": [],
   "source": [
    "df = pd.read_csv(file)"
   ]
  },
  {
   "cell_type": "code",
   "execution_count": 28,
   "metadata": {},
   "outputs": [
    {
     "data": {
      "text/html": [
       "<div>\n",
       "<style scoped>\n",
       "    .dataframe tbody tr th:only-of-type {\n",
       "        vertical-align: middle;\n",
       "    }\n",
       "\n",
       "    .dataframe tbody tr th {\n",
       "        vertical-align: top;\n",
       "    }\n",
       "\n",
       "    .dataframe thead th {\n",
       "        text-align: right;\n",
       "    }\n",
       "</style>\n",
       "<table border=\"1\" class=\"dataframe\">\n",
       "  <thead>\n",
       "    <tr style=\"text-align: right;\">\n",
       "      <th></th>\n",
       "      <th>name</th>\n",
       "      <th>version</th>\n",
       "      <th>name.1</th>\n",
       "      <th>wmc</th>\n",
       "      <th>dit</th>\n",
       "      <th>noc</th>\n",
       "      <th>cbo</th>\n",
       "      <th>rfc</th>\n",
       "      <th>lcom</th>\n",
       "      <th>ca</th>\n",
       "      <th>...</th>\n",
       "      <th>dam</th>\n",
       "      <th>moa</th>\n",
       "      <th>mfa</th>\n",
       "      <th>cam</th>\n",
       "      <th>ic</th>\n",
       "      <th>cbm</th>\n",
       "      <th>amc</th>\n",
       "      <th>max_cc</th>\n",
       "      <th>avg_cc</th>\n",
       "      <th>bug</th>\n",
       "    </tr>\n",
       "  </thead>\n",
       "  <tbody>\n",
       "    <tr>\n",
       "      <th>0</th>\n",
       "      <td>camel</td>\n",
       "      <td>1.2</td>\n",
       "      <td>org.apache.camel.component.irc.IrcErrorLogger</td>\n",
       "      <td>9</td>\n",
       "      <td>0</td>\n",
       "      <td>0</td>\n",
       "      <td>5</td>\n",
       "      <td>24</td>\n",
       "      <td>0</td>\n",
       "      <td>1</td>\n",
       "      <td>...</td>\n",
       "      <td>1.0</td>\n",
       "      <td>1</td>\n",
       "      <td>0.000000</td>\n",
       "      <td>0.370370</td>\n",
       "      <td>0</td>\n",
       "      <td>0</td>\n",
       "      <td>22.555556</td>\n",
       "      <td>1</td>\n",
       "      <td>0.8889</td>\n",
       "      <td>0</td>\n",
       "    </tr>\n",
       "    <tr>\n",
       "      <th>1</th>\n",
       "      <td>camel</td>\n",
       "      <td>1.2</td>\n",
       "      <td>org.apache.camel.ProducerTemplate</td>\n",
       "      <td>27</td>\n",
       "      <td>1</td>\n",
       "      <td>0</td>\n",
       "      <td>6</td>\n",
       "      <td>27</td>\n",
       "      <td>351</td>\n",
       "      <td>1</td>\n",
       "      <td>...</td>\n",
       "      <td>0.0</td>\n",
       "      <td>0</td>\n",
       "      <td>0.000000</td>\n",
       "      <td>0.412037</td>\n",
       "      <td>0</td>\n",
       "      <td>0</td>\n",
       "      <td>0.000000</td>\n",
       "      <td>1</td>\n",
       "      <td>1.0000</td>\n",
       "      <td>3</td>\n",
       "    </tr>\n",
       "    <tr>\n",
       "      <th>2</th>\n",
       "      <td>camel</td>\n",
       "      <td>1.2</td>\n",
       "      <td>org.apache.camel.impl.JndiRegistry</td>\n",
       "      <td>9</td>\n",
       "      <td>1</td>\n",
       "      <td>0</td>\n",
       "      <td>3</td>\n",
       "      <td>18</td>\n",
       "      <td>30</td>\n",
       "      <td>1</td>\n",
       "      <td>...</td>\n",
       "      <td>1.0</td>\n",
       "      <td>0</td>\n",
       "      <td>0.000000</td>\n",
       "      <td>0.355556</td>\n",
       "      <td>0</td>\n",
       "      <td>0</td>\n",
       "      <td>8.000000</td>\n",
       "      <td>1</td>\n",
       "      <td>0.7778</td>\n",
       "      <td>0</td>\n",
       "    </tr>\n",
       "    <tr>\n",
       "      <th>3</th>\n",
       "      <td>camel</td>\n",
       "      <td>1.2</td>\n",
       "      <td>org.apache.camel.component.cxf.CxfSoapConsumer</td>\n",
       "      <td>7</td>\n",
       "      <td>1</td>\n",
       "      <td>0</td>\n",
       "      <td>27</td>\n",
       "      <td>50</td>\n",
       "      <td>7</td>\n",
       "      <td>3</td>\n",
       "      <td>...</td>\n",
       "      <td>1.0</td>\n",
       "      <td>3</td>\n",
       "      <td>0.000000</td>\n",
       "      <td>0.416667</td>\n",
       "      <td>0</td>\n",
       "      <td>0</td>\n",
       "      <td>26.428571</td>\n",
       "      <td>1</td>\n",
       "      <td>0.7143</td>\n",
       "      <td>0</td>\n",
       "    </tr>\n",
       "    <tr>\n",
       "      <th>4</th>\n",
       "      <td>camel</td>\n",
       "      <td>1.2</td>\n",
       "      <td>org.apache.camel.processor.TryProcessor</td>\n",
       "      <td>8</td>\n",
       "      <td>2</td>\n",
       "      <td>0</td>\n",
       "      <td>10</td>\n",
       "      <td>28</td>\n",
       "      <td>0</td>\n",
       "      <td>1</td>\n",
       "      <td>...</td>\n",
       "      <td>1.0</td>\n",
       "      <td>3</td>\n",
       "      <td>0.684211</td>\n",
       "      <td>0.371429</td>\n",
       "      <td>1</td>\n",
       "      <td>1</td>\n",
       "      <td>26.500000</td>\n",
       "      <td>2</td>\n",
       "      <td>1.0000</td>\n",
       "      <td>9</td>\n",
       "    </tr>\n",
       "  </tbody>\n",
       "</table>\n",
       "<p>5 rows × 24 columns</p>\n",
       "</div>"
      ],
      "text/plain": [
       "    name  version                                          name.1  wmc  dit  \\\n",
       "0  camel      1.2   org.apache.camel.component.irc.IrcErrorLogger    9    0   \n",
       "1  camel      1.2               org.apache.camel.ProducerTemplate   27    1   \n",
       "2  camel      1.2              org.apache.camel.impl.JndiRegistry    9    1   \n",
       "3  camel      1.2  org.apache.camel.component.cxf.CxfSoapConsumer    7    1   \n",
       "4  camel      1.2         org.apache.camel.processor.TryProcessor    8    2   \n",
       "\n",
       "   noc  cbo  rfc  lcom  ca  ...  dam  moa       mfa       cam  ic  cbm  \\\n",
       "0    0    5   24     0   1  ...  1.0    1  0.000000  0.370370   0    0   \n",
       "1    0    6   27   351   1  ...  0.0    0  0.000000  0.412037   0    0   \n",
       "2    0    3   18    30   1  ...  1.0    0  0.000000  0.355556   0    0   \n",
       "3    0   27   50     7   3  ...  1.0    3  0.000000  0.416667   0    0   \n",
       "4    0   10   28     0   1  ...  1.0    3  0.684211  0.371429   1    1   \n",
       "\n",
       "         amc  max_cc  avg_cc  bug  \n",
       "0  22.555556       1  0.8889    0  \n",
       "1   0.000000       1  1.0000    3  \n",
       "2   8.000000       1  0.7778    0  \n",
       "3  26.428571       1  0.7143    0  \n",
       "4  26.500000       2  1.0000    9  \n",
       "\n",
       "[5 rows x 24 columns]"
      ]
     },
     "execution_count": 28,
     "metadata": {},
     "output_type": "execute_result"
    }
   ],
   "source": [
    "df.head()"
   ]
  },
  {
   "cell_type": "code",
   "execution_count": 29,
   "metadata": {},
   "outputs": [],
   "source": [
    "df.drop('name,version,name.1'.split(','), axis=1, inplace=True)"
   ]
  },
  {
   "cell_type": "code",
   "execution_count": 30,
   "metadata": {},
   "outputs": [],
   "source": [
    "def get_model(C=1., gamma=1.):\n",
    "    return SVC(kernel='rbf', C=C, gamma=gamma)"
   ]
  },
  {
   "cell_type": "code",
   "execution_count": 39,
   "metadata": {},
   "outputs": [
    {
     "name": "stderr",
     "output_type": "stream",
     "text": [
      "<ipython-input-39-94679c7e175f>:3: SettingWithCopyWarning: \n",
      "A value is trying to be set on a copy of a slice from a DataFrame\n",
      "\n",
      "See the caveats in the documentation: https://pandas.pydata.org/pandas-docs/stable/user_guide/indexing.html#returning-a-view-versus-a-copy\n",
      "  y[y != 0] = 1\n"
     ]
    }
   ],
   "source": [
    "X = df.drop('bug', axis=1)\n",
    "y = df['bug']\n",
    "y[y != 0] = 1\n",
    "\n",
    "smote = SMOTE()\n",
    "smote.fit_resample(X, y)\n",
    "\n",
    "X_train, X_test, y_train, y_test = train_test_split(X, y)\n",
    "\n",
    "scaler = StandardScaler()\n",
    "X_train = scaler.fit_transform(X_train)\n",
    "X_test = scaler.transform(X_test)"
   ]
  },
  {
   "cell_type": "code",
   "execution_count": 47,
   "metadata": {},
   "outputs": [
    {
     "name": "stdout",
     "output_type": "stream",
     "text": [
      "0.3617021276595745 0.08571428571428572\n",
      "0.2127659574468085 0.06666666666666667\n",
      "0.1702127659574468 0.0380952380952381\n",
      "0.2765957446808511 0.0761904761904762\n",
      "0.48936170212765956 0.22857142857142856\n",
      "0.02127659574468085 0.0\n",
      "0.23404255319148937 0.0761904761904762\n",
      "0.23404255319148937 0.06666666666666667\n",
      "0.48936170212765956 0.2\n",
      "0.3191489361702128 0.0761904761904762\n",
      "0.40425531914893614 0.12380952380952381\n",
      "0.40425531914893614 0.11428571428571428\n",
      "0.3829787234042553 0.09523809523809523\n",
      "0.2127659574468085 0.06666666666666667\n",
      "0.3191489361702128 0.10476190476190476\n",
      "0.23404255319148937 0.06666666666666667\n",
      "0.3404255319148936 0.0761904761904762\n",
      "0.1702127659574468 0.06666666666666667\n",
      "0.3617021276595745 0.09523809523809523\n",
      "0.19148936170212766 0.06666666666666667\n",
      "0.3404255319148936 0.12380952380952381\n",
      "0.1702127659574468 0.06666666666666667\n",
      "0.1702127659574468 0.0380952380952381\n",
      "0.23404255319148937 0.06666666666666667\n",
      "0.23404255319148937 0.06666666666666667\n",
      "0.1702127659574468 0.0380952380952381\n",
      "0.44680851063829785 0.1523809523809524\n",
      "0.3404255319148936 0.10476190476190476\n",
      "0.40425531914893614 0.13333333333333333\n",
      "0.1702127659574468 0.06666666666666667\n"
     ]
    }
   ],
   "source": [
    "# Throw 10 things at the wall.\n",
    "n_samples = 30\n",
    "recalls = []\n",
    "pfs = []\n",
    "cs = []\n",
    "gammas = []\n",
    "for i in range(n_samples):\n",
    "    c = np.random.uniform(0.01, 10.)\n",
    "    gamma = np.random.uniform(0.01, 0.1)\n",
    "    \n",
    "    cs.append(c)\n",
    "    gammas.append(gamma)\n",
    "    \n",
    "    model = get_model(C=c, gamma=gamma)\n",
    "    model.fit(X_train, y_train)\n",
    "    preds = model.predict(X_test)\n",
    "    \n",
    "    metr = ClassificationMetrics(y_test, preds)\n",
    "    metr.add_metrics(['pd', 'pf'])\n",
    "    rec, pf = metr.get_metrics()\n",
    "    print(rec, pf)\n",
    "    recalls.append(rec)\n",
    "    pfs.append(pf)"
   ]
  },
  {
   "cell_type": "code",
   "execution_count": 57,
   "metadata": {},
   "outputs": [
    {
     "data": {
      "text/plain": [
       "Text(0, 0.5, 'pd')"
      ]
     },
     "execution_count": 57,
     "metadata": {},
     "output_type": "execute_result"
    },
    {
     "data": {
      "image/png": "[encoded data removed]",
      "text/plain": [
       "<Figure size 432x288 with 1 Axes>"
      ]
     },
     "metadata": {
      "needs_background": "light"
     },
     "output_type": "display_data"
    }
   ],
   "source": [
    "plt.scatter(pfs, recalls)\n",
    "plt.xlabel('pf')\n",
    "plt.ylabel('pd')"
   ]
  },
  {
   "cell_type": "code",
   "execution_count": 55,
   "metadata": {},
   "outputs": [],
   "source": [
    "H = list(zip(cs, gammas))"
   ]
  },
  {
   "cell_type": "code",
   "execution_count": 58,
   "metadata": {},
   "outputs": [],
   "source": [
    "M = [recalls[i] + pfs[i] for i in range(n_samples)]"
   ]
  },
  {
   "cell_type": "code",
   "execution_count": 59,
   "metadata": {},
   "outputs": [
    {
     "data": {
      "text/plain": [
       "[0.4474164133738602,\n",
       " 0.2794326241134752,\n",
       " 0.2083080040526849,\n",
       " 0.35278622087132727,\n",
       " 0.7179331306990882,\n",
       " 0.02127659574468085,\n",
       " 0.31023302938196556,\n",
       " 0.300709219858156,\n",
       " 0.6893617021276596,\n",
       " 0.395339412360689,\n",
       " 0.52806484295846,\n",
       " 0.5185410334346504,\n",
       " 0.47821681864235055,\n",
       " 0.2794326241134752,\n",
       " 0.42391084093211756,\n",
       " 0.300709219858156,\n",
       " 0.4166160081053698,\n",
       " 0.23687943262411348,\n",
       " 0.4569402228976697,\n",
       " 0.2581560283687943,\n",
       " 0.4642350557244174,\n",
       " 0.23687943262411348,\n",
       " 0.2083080040526849,\n",
       " 0.300709219858156,\n",
       " 0.300709219858156,\n",
       " 0.2083080040526849,\n",
       " 0.5991894630192502,\n",
       " 0.4451874366767984,\n",
       " 0.5375886524822695,\n",
       " 0.23687943262411348]"
      ]
     },
     "execution_count": 59,
     "metadata": {},
     "output_type": "execute_result"
    }
   ],
   "source": [
    "M"
   ]
  },
  {
   "cell_type": "code",
   "execution_count": 80,
   "metadata": {},
   "outputs": [],
   "source": [
    "poly = PolynomialFeatures(degree=2)"
   ]
  },
  {
   "cell_type": "code",
   "execution_count": 81,
   "metadata": {},
   "outputs": [],
   "source": [
    "H_ = poly.fit_transform(H)"
   ]
  },
  {
   "cell_type": "code",
   "execution_count": 82,
   "metadata": {},
   "outputs": [
    {
     "data": {
      "text/plain": [
       "(30, 6)"
      ]
     },
     "execution_count": 82,
     "metadata": {},
     "output_type": "execute_result"
    }
   ],
   "source": [
    "H_.shape"
   ]
  },
  {
   "cell_type": "code",
   "execution_count": 72,
   "metadata": {},
   "outputs": [],
   "source": [
    "#H_ = np.delete(H_,(1),axis=1)"
   ]
  },
  {
   "cell_type": "code",
   "execution_count": 83,
   "metadata": {},
   "outputs": [],
   "source": [
    "H_train, H_test, M_train, M_test = train_test_split(H_, M)"
   ]
  },
  {
   "cell_type": "code",
   "execution_count": 84,
   "metadata": {},
   "outputs": [
    {
     "data": {
      "text/plain": [
       "LinearRegression()"
      ]
     },
     "execution_count": 84,
     "metadata": {},
     "output_type": "execute_result"
    }
   ],
   "source": [
    "clf = LinearRegression()\n",
    "clf.fit(H_train, M_train)"
   ]
  },
  {
   "cell_type": "code",
   "execution_count": 85,
   "metadata": {},
   "outputs": [],
   "source": [
    "preds = clf.predict(H_test)"
   ]
  },
  {
   "cell_type": "code",
   "execution_count": 86,
   "metadata": {},
   "outputs": [],
   "source": [
    "from sklearn.metrics import r2_score"
   ]
  },
  {
   "cell_type": "code",
   "execution_count": 87,
   "metadata": {},
   "outputs": [
    {
     "data": {
      "text/plain": [
       "0.8729818540000063"
      ]
     },
     "execution_count": 87,
     "metadata": {},
     "output_type": "execute_result"
    }
   ],
   "source": [
    "r2_score(M_test, preds)"
   ]
  },
  {
   "cell_type": "code",
   "execution_count": null,
   "metadata": {},
   "outputs": [],
   "source": []
  }
 ],
 "metadata": {
  "kernelspec": {
   "display_name": "Python 3",
   "language": "python",
   "name": "python3"
  },
  "language_info": {
   "codemirror_mode": {
    "name": "ipython",
    "version": 3
   },
   "file_extension": ".py",
   "mimetype": "text/x-python",
   "name": "python",
   "nbconvert_exporter": "python",
   "pygments_lexer": "ipython3",
   "version": "3.8.5"
  }
 },
 "nbformat": 4,
 "nbformat_minor": 4
}
