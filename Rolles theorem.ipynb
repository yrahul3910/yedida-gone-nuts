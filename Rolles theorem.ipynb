{
 "cells": [
  {
   "cell_type": "code",
   "execution_count": 55,
   "metadata": {},
   "outputs": [
    {
     "name": "stdout",
     "output_type": "stream",
     "text": [
      "Collecting sympy\n",
      "  Downloading sympy-1.6.2-py3-none-any.whl (5.8 MB)\n",
      "\u001b[K     |████████████████████████████████| 5.8 MB 3.1 MB/s eta 0:00:01     |███████████████████▊            | 3.6 MB 3.1 MB/s eta 0:00:01\n",
      "\u001b[?25hCollecting mpmath>=0.19\n",
      "  Downloading mpmath-1.1.0.tar.gz (512 kB)\n",
      "\u001b[K     |████████████████████████████████| 512 kB 13.7 MB/s eta 0:00:01\n",
      "\u001b[?25hBuilding wheels for collected packages: mpmath\n",
      "  Building wheel for mpmath (setup.py) ... \u001b[?25ldone\n",
      "\u001b[?25h  Created wheel for mpmath: filename=mpmath-1.1.0-py3-none-any.whl size=532239 sha256=618cc366dd6bc78000f2a28ef665154a9a0d36c086a89e6094282e11a185f710\n",
      "  Stored in directory: /Users/ryedida/Library/Caches/pip/wheels/29/2c/1c/d2e4580cde2743b0aef389e936ac21a2db92921ddbca53faa1\n",
      "Successfully built mpmath\n",
      "Installing collected packages: mpmath, sympy\n",
      "Successfully installed mpmath-1.1.0 sympy-1.6.2\n"
     ]
    }
   ],
   "source": [
    "!pip3 install sympy"
   ]
  },
  {
   "cell_type": "code",
   "execution_count": 85,
   "metadata": {},
   "outputs": [],
   "source": [
    "import pandas as pd\n",
    "import numpy as np\n",
    "from sklearn.svm import SVC\n",
    "import matplotlib.pyplot as plt\n",
    "from raise_utils.metrics import ClassificationMetrics\n",
    "from sklearn.model_selection import train_test_split\n",
    "from sklearn.preprocessing import *\n",
    "from imblearn.over_sampling import SMOTE\n",
    "from sklearn.linear_model import LinearRegression\n",
    "import sympy\n",
    "from sympy.parsing.sympy_parser import standard_transformations, parse_expr"
   ]
  },
  {
   "cell_type": "code",
   "execution_count": 2,
   "metadata": {},
   "outputs": [
    {
     "name": "stdout",
     "output_type": "stream",
     "text": [
      "camel.csv        deeplearning.csv node.csv\r\n",
      "cloudstack.csv   hadoop.csv       ofbiz.csv\r\n",
      "cocoon.csv       hive.csv         qpid.csv\r\n"
     ]
    }
   ],
   "source": [
    "!ls ../Dodge/data/issue_close_time/14\\ days"
   ]
  },
  {
   "cell_type": "code",
   "execution_count": 3,
   "metadata": {},
   "outputs": [],
   "source": [
    "file = '../Dodge/data/defect/camel-1.2.csv'"
   ]
  },
  {
   "cell_type": "code",
   "execution_count": 4,
   "metadata": {},
   "outputs": [],
   "source": [
    "df = pd.read_csv(file)"
   ]
  },
  {
   "cell_type": "code",
   "execution_count": 5,
   "metadata": {},
   "outputs": [
    {
     "data": {
      "text/html": [
       "<div>\n",
       "<style scoped>\n",
       "    .dataframe tbody tr th:only-of-type {\n",
       "        vertical-align: middle;\n",
       "    }\n",
       "\n",
       "    .dataframe tbody tr th {\n",
       "        vertical-align: top;\n",
       "    }\n",
       "\n",
       "    .dataframe thead th {\n",
       "        text-align: right;\n",
       "    }\n",
       "</style>\n",
       "<table border=\"1\" class=\"dataframe\">\n",
       "  <thead>\n",
       "    <tr style=\"text-align: right;\">\n",
       "      <th></th>\n",
       "      <th>name</th>\n",
       "      <th>version</th>\n",
       "      <th>name.1</th>\n",
       "      <th>wmc</th>\n",
       "      <th>dit</th>\n",
       "      <th>noc</th>\n",
       "      <th>cbo</th>\n",
       "      <th>rfc</th>\n",
       "      <th>lcom</th>\n",
       "      <th>ca</th>\n",
       "      <th>...</th>\n",
       "      <th>dam</th>\n",
       "      <th>moa</th>\n",
       "      <th>mfa</th>\n",
       "      <th>cam</th>\n",
       "      <th>ic</th>\n",
       "      <th>cbm</th>\n",
       "      <th>amc</th>\n",
       "      <th>max_cc</th>\n",
       "      <th>avg_cc</th>\n",
       "      <th>bug</th>\n",
       "    </tr>\n",
       "  </thead>\n",
       "  <tbody>\n",
       "    <tr>\n",
       "      <th>0</th>\n",
       "      <td>camel</td>\n",
       "      <td>1.2</td>\n",
       "      <td>org.apache.camel.component.irc.IrcErrorLogger</td>\n",
       "      <td>9</td>\n",
       "      <td>0</td>\n",
       "      <td>0</td>\n",
       "      <td>5</td>\n",
       "      <td>24</td>\n",
       "      <td>0</td>\n",
       "      <td>1</td>\n",
       "      <td>...</td>\n",
       "      <td>1.0</td>\n",
       "      <td>1</td>\n",
       "      <td>0.000000</td>\n",
       "      <td>0.370370</td>\n",
       "      <td>0</td>\n",
       "      <td>0</td>\n",
       "      <td>22.555556</td>\n",
       "      <td>1</td>\n",
       "      <td>0.8889</td>\n",
       "      <td>0</td>\n",
       "    </tr>\n",
       "    <tr>\n",
       "      <th>1</th>\n",
       "      <td>camel</td>\n",
       "      <td>1.2</td>\n",
       "      <td>org.apache.camel.ProducerTemplate</td>\n",
       "      <td>27</td>\n",
       "      <td>1</td>\n",
       "      <td>0</td>\n",
       "      <td>6</td>\n",
       "      <td>27</td>\n",
       "      <td>351</td>\n",
       "      <td>1</td>\n",
       "      <td>...</td>\n",
       "      <td>0.0</td>\n",
       "      <td>0</td>\n",
       "      <td>0.000000</td>\n",
       "      <td>0.412037</td>\n",
       "      <td>0</td>\n",
       "      <td>0</td>\n",
       "      <td>0.000000</td>\n",
       "      <td>1</td>\n",
       "      <td>1.0000</td>\n",
       "      <td>3</td>\n",
       "    </tr>\n",
       "    <tr>\n",
       "      <th>2</th>\n",
       "      <td>camel</td>\n",
       "      <td>1.2</td>\n",
       "      <td>org.apache.camel.impl.JndiRegistry</td>\n",
       "      <td>9</td>\n",
       "      <td>1</td>\n",
       "      <td>0</td>\n",
       "      <td>3</td>\n",
       "      <td>18</td>\n",
       "      <td>30</td>\n",
       "      <td>1</td>\n",
       "      <td>...</td>\n",
       "      <td>1.0</td>\n",
       "      <td>0</td>\n",
       "      <td>0.000000</td>\n",
       "      <td>0.355556</td>\n",
       "      <td>0</td>\n",
       "      <td>0</td>\n",
       "      <td>8.000000</td>\n",
       "      <td>1</td>\n",
       "      <td>0.7778</td>\n",
       "      <td>0</td>\n",
       "    </tr>\n",
       "    <tr>\n",
       "      <th>3</th>\n",
       "      <td>camel</td>\n",
       "      <td>1.2</td>\n",
       "      <td>org.apache.camel.component.cxf.CxfSoapConsumer</td>\n",
       "      <td>7</td>\n",
       "      <td>1</td>\n",
       "      <td>0</td>\n",
       "      <td>27</td>\n",
       "      <td>50</td>\n",
       "      <td>7</td>\n",
       "      <td>3</td>\n",
       "      <td>...</td>\n",
       "      <td>1.0</td>\n",
       "      <td>3</td>\n",
       "      <td>0.000000</td>\n",
       "      <td>0.416667</td>\n",
       "      <td>0</td>\n",
       "      <td>0</td>\n",
       "      <td>26.428571</td>\n",
       "      <td>1</td>\n",
       "      <td>0.7143</td>\n",
       "      <td>0</td>\n",
       "    </tr>\n",
       "    <tr>\n",
       "      <th>4</th>\n",
       "      <td>camel</td>\n",
       "      <td>1.2</td>\n",
       "      <td>org.apache.camel.processor.TryProcessor</td>\n",
       "      <td>8</td>\n",
       "      <td>2</td>\n",
       "      <td>0</td>\n",
       "      <td>10</td>\n",
       "      <td>28</td>\n",
       "      <td>0</td>\n",
       "      <td>1</td>\n",
       "      <td>...</td>\n",
       "      <td>1.0</td>\n",
       "      <td>3</td>\n",
       "      <td>0.684211</td>\n",
       "      <td>0.371429</td>\n",
       "      <td>1</td>\n",
       "      <td>1</td>\n",
       "      <td>26.500000</td>\n",
       "      <td>2</td>\n",
       "      <td>1.0000</td>\n",
       "      <td>9</td>\n",
       "    </tr>\n",
       "  </tbody>\n",
       "</table>\n",
       "<p>5 rows × 24 columns</p>\n",
       "</div>"
      ],
      "text/plain": [
       "    name  version                                          name.1  wmc  dit  \\\n",
       "0  camel      1.2   org.apache.camel.component.irc.IrcErrorLogger    9    0   \n",
       "1  camel      1.2               org.apache.camel.ProducerTemplate   27    1   \n",
       "2  camel      1.2              org.apache.camel.impl.JndiRegistry    9    1   \n",
       "3  camel      1.2  org.apache.camel.component.cxf.CxfSoapConsumer    7    1   \n",
       "4  camel      1.2         org.apache.camel.processor.TryProcessor    8    2   \n",
       "\n",
       "   noc  cbo  rfc  lcom  ca  ...  dam  moa       mfa       cam  ic  cbm  \\\n",
       "0    0    5   24     0   1  ...  1.0    1  0.000000  0.370370   0    0   \n",
       "1    0    6   27   351   1  ...  0.0    0  0.000000  0.412037   0    0   \n",
       "2    0    3   18    30   1  ...  1.0    0  0.000000  0.355556   0    0   \n",
       "3    0   27   50     7   3  ...  1.0    3  0.000000  0.416667   0    0   \n",
       "4    0   10   28     0   1  ...  1.0    3  0.684211  0.371429   1    1   \n",
       "\n",
       "         amc  max_cc  avg_cc  bug  \n",
       "0  22.555556       1  0.8889    0  \n",
       "1   0.000000       1  1.0000    3  \n",
       "2   8.000000       1  0.7778    0  \n",
       "3  26.428571       1  0.7143    0  \n",
       "4  26.500000       2  1.0000    9  \n",
       "\n",
       "[5 rows x 24 columns]"
      ]
     },
     "execution_count": 5,
     "metadata": {},
     "output_type": "execute_result"
    }
   ],
   "source": [
    "df.head()"
   ]
  },
  {
   "cell_type": "code",
   "execution_count": 6,
   "metadata": {},
   "outputs": [],
   "source": [
    "df.drop('name,version,name.1'.split(','), axis=1, inplace=True)"
   ]
  },
  {
   "cell_type": "code",
   "execution_count": 7,
   "metadata": {},
   "outputs": [],
   "source": [
    "def get_model(C=1., gamma=1.):\n",
    "    return SVC(kernel='rbf', C=C, gamma=gamma)"
   ]
  },
  {
   "cell_type": "code",
   "execution_count": 8,
   "metadata": {},
   "outputs": [
    {
     "name": "stderr",
     "output_type": "stream",
     "text": [
      "<ipython-input-8-94679c7e175f>:3: SettingWithCopyWarning: \n",
      "A value is trying to be set on a copy of a slice from a DataFrame\n",
      "\n",
      "See the caveats in the documentation: https://pandas.pydata.org/pandas-docs/stable/user_guide/indexing.html#returning-a-view-versus-a-copy\n",
      "  y[y != 0] = 1\n"
     ]
    }
   ],
   "source": [
    "X = df.drop('bug', axis=1)\n",
    "y = df['bug']\n",
    "y[y != 0] = 1\n",
    "\n",
    "smote = SMOTE()\n",
    "smote.fit_resample(X, y)\n",
    "\n",
    "X_train, X_test, y_train, y_test = train_test_split(X, y)\n",
    "\n",
    "scaler = StandardScaler()\n",
    "X_train = scaler.fit_transform(X_train)\n",
    "X_test = scaler.transform(X_test)"
   ]
  },
  {
   "cell_type": "code",
   "execution_count": 192,
   "metadata": {},
   "outputs": [
    {
     "name": "stdout",
     "output_type": "stream",
     "text": [
      "0.24193548387096775 0.13333333333333333\n",
      "0.25806451612903225 0.13333333333333333\n",
      "0.12903225806451613 0.07777777777777778\n",
      "0.0 0.0\n",
      "0.0 0.0\n",
      "0.11290322580645161 0.07777777777777778\n",
      "0.27419354838709675 0.13333333333333333\n",
      "0.14516129032258066 0.08888888888888889\n",
      "0.11290322580645161 0.08888888888888889\n",
      "0.11290322580645161 0.08888888888888889\n",
      "0.27419354838709675 0.13333333333333333\n",
      "0.16129032258064516 0.08888888888888889\n",
      "0.08064516129032258 0.05555555555555555\n",
      "0.12903225806451613 0.08888888888888889\n",
      "0.24193548387096775 0.13333333333333333\n",
      "0.14516129032258066 0.07777777777777778\n",
      "0.08064516129032258 0.05555555555555555\n",
      "0.2903225806451613 0.13333333333333333\n",
      "0.27419354838709675 0.13333333333333333\n",
      "0.11290322580645161 0.07777777777777778\n",
      "0.14516129032258066 0.08888888888888889\n",
      "0.14516129032258066 0.08888888888888889\n",
      "0.04838709677419355 0.06666666666666667\n",
      "0.16129032258064516 0.1\n",
      "0.2903225806451613 0.13333333333333333\n",
      "0.14516129032258066 0.08888888888888889\n",
      "0.08064516129032258 0.07777777777777778\n",
      "0.2903225806451613 0.13333333333333333\n",
      "0.0 0.0\n",
      "0.11290322580645161 0.08888888888888889\n",
      "0.06451612903225806 0.044444444444444446\n",
      "0.1774193548387097 0.08888888888888889\n",
      "0.24193548387096775 0.13333333333333333\n",
      "0.24193548387096775 0.13333333333333333\n",
      "0.08064516129032258 0.06666666666666667\n",
      "0.11290322580645161 0.08888888888888889\n",
      "0.14516129032258066 0.08888888888888889\n",
      "0.24193548387096775 0.13333333333333333\n",
      "0.14516129032258066 0.07777777777777778\n",
      "0.12903225806451613 0.07777777777777778\n",
      "0.12903225806451613 0.07777777777777778\n",
      "0.22580645161290322 0.13333333333333333\n",
      "0.08064516129032258 0.044444444444444446\n",
      "0.0967741935483871 0.06666666666666667\n",
      "0.12903225806451613 0.06666666666666667\n",
      "0.27419354838709675 0.13333333333333333\n",
      "0.20967741935483872 0.08888888888888889\n",
      "0.11290322580645161 0.07777777777777778\n",
      "0.11290322580645161 0.08888888888888889\n",
      "0.22580645161290322 0.13333333333333333\n",
      "0.11290322580645161 0.07777777777777778\n",
      "0.24193548387096775 0.13333333333333333\n",
      "0.12903225806451613 0.07777777777777778\n",
      "0.04838709677419355 0.06666666666666667\n",
      "0.0967741935483871 0.06666666666666667\n",
      "0.11290322580645161 0.08888888888888889\n",
      "0.14516129032258066 0.08888888888888889\n",
      "0.25806451612903225 0.12222222222222222\n",
      "0.016129032258064516 0.0\n",
      "0.0967741935483871 0.06666666666666667\n",
      "0.11290322580645161 0.07777777777777778\n",
      "0.12903225806451613 0.08888888888888889\n",
      "0.1935483870967742 0.1\n",
      "0.11290322580645161 0.08888888888888889\n",
      "0.2903225806451613 0.14444444444444443\n",
      "0.11290322580645161 0.07777777777777778\n",
      "0.22580645161290322 0.13333333333333333\n",
      "0.24193548387096775 0.13333333333333333\n",
      "0.11290322580645161 0.08888888888888889\n",
      "0.11290322580645161 0.08888888888888889\n",
      "0.11290322580645161 0.08888888888888889\n",
      "0.14516129032258066 0.08888888888888889\n",
      "0.3064516129032258 0.13333333333333333\n",
      "0.08064516129032258 0.06666666666666667\n",
      "0.16129032258064516 0.08888888888888889\n",
      "0.1935483870967742 0.1111111111111111\n",
      "0.06451612903225806 0.05555555555555555\n",
      "0.2903225806451613 0.13333333333333333\n",
      "0.0967741935483871 0.06666666666666667\n",
      "0.16129032258064516 0.1\n",
      "0.3225806451612903 0.16666666666666666\n",
      "0.22580645161290322 0.13333333333333333\n",
      "0.16129032258064516 0.08888888888888889\n",
      "0.11290322580645161 0.08888888888888889\n",
      "0.08064516129032258 0.06666666666666667\n",
      "0.25806451612903225 0.13333333333333333\n",
      "0.11290322580645161 0.08888888888888889\n",
      "0.3225806451612903 0.16666666666666666\n",
      "0.27419354838709675 0.12222222222222222\n",
      "0.0967741935483871 0.07777777777777778\n",
      "0.11290322580645161 0.08888888888888889\n",
      "0.0 0.0\n",
      "0.0 0.0\n",
      "0.12903225806451613 0.06666666666666667\n",
      "0.11290322580645161 0.05555555555555555\n",
      "0.22580645161290322 0.13333333333333333\n",
      "0.11290322580645161 0.08888888888888889\n",
      "0.11290322580645161 0.1\n",
      "0.24193548387096775 0.13333333333333333\n",
      "0.08064516129032258 0.06666666666666667\n"
     ]
    }
   ],
   "source": [
    "# Throw 10 things at the wall.\n",
    "n_samples = 100\n",
    "recalls = []\n",
    "pfs = []\n",
    "cs = []\n",
    "gammas = []\n",
    "d2h = []\n",
    "for i in range(n_samples):\n",
    "    c = np.random.uniform(0.01, 10.)\n",
    "    gamma = np.random.uniform(0.01, 0.1)\n",
    "    \n",
    "    cs.append(c)\n",
    "    gammas.append(gamma)\n",
    "    \n",
    "    model = get_model(C=c, gamma=gamma)\n",
    "    model.fit(X_train, y_train)\n",
    "    preds = model.predict(X_test)\n",
    "    \n",
    "    metr = ClassificationMetrics(y_test, preds)\n",
    "    metr.add_metrics(['pd', 'pf'])\n",
    "    rec, pf = metr.get_metrics()\n",
    "    print(rec, pf)\n",
    "    recalls.append(rec)\n",
    "    pfs.append(pf)\n",
    "    d2h.append(np.sqrt((1.-rec)**2+pf**2))"
   ]
  },
  {
   "cell_type": "code",
   "execution_count": 193,
   "metadata": {},
   "outputs": [
    {
     "data": {
      "text/plain": [
       "Text(0, 0.5, 'pd')"
      ]
     },
     "execution_count": 193,
     "metadata": {},
     "output_type": "execute_result"
    },
    {
     "data": {
      "image/png": "[encoded data removed]",
      "text/plain": [
       "<Figure size 432x288 with 1 Axes>"
      ]
     },
     "metadata": {
      "needs_background": "light"
     },
     "output_type": "display_data"
    }
   ],
   "source": [
    "plt.scatter(pfs, recalls)\n",
    "plt.xlim(plt.ylim())\n",
    "plt.xlabel('pf')\n",
    "plt.ylabel('pd')"
   ]
  },
  {
   "cell_type": "code",
   "execution_count": 194,
   "metadata": {},
   "outputs": [],
   "source": [
    "H = list(zip(cs, gammas))"
   ]
  },
  {
   "cell_type": "code",
   "execution_count": 195,
   "metadata": {},
   "outputs": [],
   "source": [
    "M = d2h"
   ]
  },
  {
   "cell_type": "code",
   "execution_count": 196,
   "metadata": {},
   "outputs": [
    {
     "data": {
      "text/plain": [
       "[0.7697009733602534,\n",
       " 0.7538209601786254,\n",
       " 0.8744336396824204,\n",
       " 1.0,\n",
       " 1.0,\n",
       " 0.890499898652801,\n",
       " 0.7379517484095363,\n",
       " 0.8594477611413369,\n",
       " 0.8915390744956166,\n",
       " 0.8915390744956166,\n",
       " 0.7379517484095363,\n",
       " 0.8434068754550081,\n",
       " 0.9210318882709672,\n",
       " 0.8754918857762742,\n",
       " 0.7697009733602534,\n",
       " 0.8583697351835075,\n",
       " 0.9210318882709672,\n",
       " 0.7220940501900853,\n",
       " 0.7379517484095363,\n",
       " 0.890499898652801,\n",
       " 0.8594477611413369,\n",
       " 0.8594477611413369,\n",
       " 0.9539452615482151,\n",
       " 0.8446501778824642,\n",
       " 0.7220940501900853,\n",
       " 0.8594477611413369,\n",
       " 0.9226389879985271,\n",
       " 0.7220940501900853,\n",
       " 1.0,\n",
       " 0.8915390744956166,\n",
       " 0.9365390442916761,\n",
       " 0.8273694171057242,\n",
       " 0.7697009733602534,\n",
       " 0.7697009733602534,\n",
       " 0.9217688234602759,\n",
       " 0.8915390744956166,\n",
       " 0.8594477611413369,\n",
       " 0.7697009733602534,\n",
       " 0.8583697351835075,\n",
       " 0.8744336396824204,\n",
       " 0.8744336396824204,\n",
       " 0.7855911329323809,\n",
       " 0.9204285024383329,\n",
       " 0.905682782150909,\n",
       " 0.8735154560376365,\n",
       " 0.7379517484095363,\n",
       " 0.7953056117276733,\n",
       " 0.890499898652801,\n",
       " 0.8915390744956166,\n",
       " 0.7855911329323809,\n",
       " 0.890499898652801,\n",
       " 0.7697009733602534,\n",
       " 0.8744336396824204,\n",
       " 0.9539452615482151,\n",
       " 0.905682782150909,\n",
       " 0.8915390744956166,\n",
       " 0.8594477611413369,\n",
       " 0.7519351925743238,\n",
       " 0.9838709677419355,\n",
       " 0.905682782150909,\n",
       " 0.890499898652801,\n",
       " 0.8754918857762742,\n",
       " 0.8126279615877208,\n",
       " 0.8915390744956166,\n",
       " 0.7242280283674527,\n",
       " 0.890499898652801,\n",
       " 0.7855911329323809,\n",
       " 0.7697009733602534,\n",
       " 0.8915390744956166,\n",
       " 0.8915390744956166,\n",
       " 0.8915390744956166,\n",
       " 0.8594477611413369,\n",
       " 0.7062486410764376,\n",
       " 0.9217688234602759,\n",
       " 0.8434068754550081,\n",
       " 0.81406994967666,\n",
       " 0.9371320571797112,\n",
       " 0.7220940501900853,\n",
       " 0.905682782150909,\n",
       " 0.8446501778824642,\n",
       " 0.6976207853037864,\n",
       " 0.7855911329323809,\n",
       " 0.8434068754550081,\n",
       " 0.8915390744956166,\n",
       " 0.9217688234602759,\n",
       " 0.7538209601786254,\n",
       " 0.8915390744956166,\n",
       " 0.6976207853037864,\n",
       " 0.7360253234827264,\n",
       " 0.9065683869164067,\n",
       " 0.8915390744956166,\n",
       " 1.0,\n",
       " 1.0,\n",
       " 0.8735154560376365,\n",
       " 0.8888346902195513,\n",
       " 0.7855911329323809,\n",
       " 0.8915390744956166,\n",
       " 0.8927153447681961,\n",
       " 0.7697009733602534,\n",
       " 0.9217688234602759]"
      ]
     },
     "execution_count": 196,
     "metadata": {},
     "output_type": "execute_result"
    }
   ],
   "source": [
    "M"
   ]
  },
  {
   "cell_type": "code",
   "execution_count": 197,
   "metadata": {},
   "outputs": [],
   "source": [
    "poly = PolynomialFeatures(degree=3)"
   ]
  },
  {
   "cell_type": "code",
   "execution_count": 198,
   "metadata": {},
   "outputs": [],
   "source": [
    "H_ = poly.fit_transform(H)"
   ]
  },
  {
   "cell_type": "code",
   "execution_count": 199,
   "metadata": {},
   "outputs": [
    {
     "data": {
      "text/plain": [
       "(100, 10)"
      ]
     },
     "execution_count": 199,
     "metadata": {},
     "output_type": "execute_result"
    }
   ],
   "source": [
    "H_.shape"
   ]
  },
  {
   "cell_type": "code",
   "execution_count": 200,
   "metadata": {},
   "outputs": [],
   "source": [
    "H_train, H_test, M_train, M_test = train_test_split(H_, M)"
   ]
  },
  {
   "cell_type": "code",
   "execution_count": 201,
   "metadata": {},
   "outputs": [
    {
     "data": {
      "text/plain": [
       "LinearRegression()"
      ]
     },
     "execution_count": 201,
     "metadata": {},
     "output_type": "execute_result"
    }
   ],
   "source": [
    "clf = LinearRegression()\n",
    "clf.fit(H_train, M_train)"
   ]
  },
  {
   "cell_type": "code",
   "execution_count": 202,
   "metadata": {},
   "outputs": [],
   "source": [
    "preds = clf.predict(H_test)"
   ]
  },
  {
   "cell_type": "code",
   "execution_count": 203,
   "metadata": {},
   "outputs": [],
   "source": [
    "from sklearn.metrics import r2_score"
   ]
  },
  {
   "cell_type": "code",
   "execution_count": 204,
   "metadata": {},
   "outputs": [
    {
     "data": {
      "text/plain": [
       "0.9242431664478473"
      ]
     },
     "execution_count": 204,
     "metadata": {},
     "output_type": "execute_result"
    }
   ],
   "source": [
    "r2_score(M_test, preds)"
   ]
  },
  {
   "cell_type": "code",
   "execution_count": 205,
   "metadata": {},
   "outputs": [],
   "source": [
    "# cs and gammas are our hyper-parameters (i.e., what we need as outputs)\n",
    "# we have a model from H --> M; we need the reverse\n",
    "M = [.2]"
   ]
  },
  {
   "cell_type": "code",
   "execution_count": 163,
   "metadata": {},
   "outputs": [
    {
     "data": {
      "text/plain": [
       "array([[0, 0],\n",
       "       [1, 0],\n",
       "       [0, 1],\n",
       "       [2, 0],\n",
       "       [1, 1],\n",
       "       [0, 2],\n",
       "       [3, 0],\n",
       "       [2, 1],\n",
       "       [1, 2],\n",
       "       [0, 3]])"
      ]
     },
     "execution_count": 163,
     "metadata": {},
     "output_type": "execute_result"
    }
   ],
   "source": [
    "poly.powers_"
   ]
  },
  {
   "cell_type": "code",
   "execution_count": 164,
   "metadata": {},
   "outputs": [
    {
     "data": {
      "text/plain": [
       "['1',\n",
       " 'x0',\n",
       " 'x1',\n",
       " 'x0^2',\n",
       " 'x0 x1',\n",
       " 'x1^2',\n",
       " 'x0^3',\n",
       " 'x0^2 x1',\n",
       " 'x0 x1^2',\n",
       " 'x1^3']"
      ]
     },
     "execution_count": 164,
     "metadata": {},
     "output_type": "execute_result"
    }
   ],
   "source": [
    "poly.get_feature_names()"
   ]
  },
  {
   "cell_type": "code",
   "execution_count": 165,
   "metadata": {},
   "outputs": [],
   "source": [
    "x0 = sympy.var('x0')\n",
    "x1 = sympy.var('x1')\n",
    "\n",
    "local_dict = { 'x0': x0, 'x1': x1 }"
   ]
  },
  {
   "cell_type": "code",
   "execution_count": 167,
   "metadata": {},
   "outputs": [
    {
     "data": {
      "text/plain": [
       "(0.07670178170994431,\n",
       " array([ 0.00000000e+00,  7.77213691e-04, -2.56786631e+00, -1.43262628e-03,\n",
       "         5.57042656e-01,  4.35359635e+01,  1.91868754e-04, -4.34007807e-02,\n",
       "         3.74106266e-01, -2.49346006e+02]))"
      ]
     },
     "execution_count": 167,
     "metadata": {},
     "output_type": "execute_result"
    }
   ],
   "source": [
    "clf.intercept_, clf.coef_"
   ]
  },
  {
   "cell_type": "code",
   "execution_count": 223,
   "metadata": {},
   "outputs": [],
   "source": [
    "polynomial = ''.join([f'{\"+\" if c >= 0 else \"\"}{round(c, 2)}*{v}' for c, v in zip(clf.coef_, poly.get_feature_names())])"
   ]
  },
  {
   "cell_type": "code",
   "execution_count": 224,
   "metadata": {},
   "outputs": [],
   "source": [
    "polynomial = polynomial.replace('^', '**').replace(' ', '*') + '-0.4'"
   ]
  },
  {
   "cell_type": "code",
   "execution_count": 225,
   "metadata": {},
   "outputs": [
    {
     "data": {
      "text/plain": [
       "'+0.0*1-0.02*x0+0.31*x1+0.01*x0**2-0.82*x0*x1-0.28*x1**2-0.0*x0**3+0.07*x0**2*x1-0.52*x0*x1**2-4.44*x1**3-0.4'"
      ]
     },
     "execution_count": 225,
     "metadata": {},
     "output_type": "execute_result"
    }
   ],
   "source": [
    "polynomial"
   ]
  },
  {
   "cell_type": "code",
   "execution_count": 226,
   "metadata": {},
   "outputs": [],
   "source": [
    "func = parse_expr(polynomial, local_dict=local_dict)"
   ]
  },
  {
   "cell_type": "code",
   "execution_count": 227,
   "metadata": {},
   "outputs": [
    {
     "data": {
      "text/latex": [
       "$\\displaystyle 0.07 x_{0}^{2} x_{1} + 0.01 x_{0}^{2} - 0.52 x_{0} x_{1}^{2} - 0.82 x_{0} x_{1} - 0.02 x_{0} - 4.44 x_{1}^{3} - 0.28 x_{1}^{2} + 0.31 x_{1} - 0.4$"
      ],
      "text/plain": [
       "0.07*x0**2*x1 + 0.01*x0**2 - 0.52*x0*x1**2 - 0.82*x0*x1 - 0.02*x0 - 4.44*x1**3 - 0.28*x1**2 + 0.31*x1 - 0.4"
      ]
     },
     "execution_count": 227,
     "metadata": {},
     "output_type": "execute_result"
    }
   ],
   "source": [
    "func"
   ]
  },
  {
   "cell_type": "code",
   "execution_count": 228,
   "metadata": {},
   "outputs": [],
   "source": [
    "solutions = sympy.solve(func, [x0, x1])"
   ]
  },
  {
   "cell_type": "code",
   "execution_count": 229,
   "metadata": {},
   "outputs": [
    {
     "data": {
      "text/plain": [
       "[((26.0*x1**2 + 41.0*x1 - 61.5142259969188*sqrt(x1**4 + 0.732558139534884*x1**3 + 0.408033826638478*x1**2 + 0.0874735729386892*x1 + 0.0108350951374207) + 1.0)/(7.0*x1 + 1.0),\n",
       "  x1),\n",
       " ((26.0*x1**2 + 41.0*x1 + 61.5142259969188*sqrt(x1**4 + 0.732558139534884*x1**3 + 0.408033826638478*x1**2 + 0.0874735729386892*x1 + 0.0108350951374207) + 1.0)/(7.0*x1 + 1.0),\n",
       "  x1)]"
      ]
     },
     "execution_count": 229,
     "metadata": {},
     "output_type": "execute_result"
    }
   ],
   "source": [
    "solutions"
   ]
  },
  {
   "cell_type": "code",
   "execution_count": 230,
   "metadata": {},
   "outputs": [
    {
     "data": {
      "text/latex": [
       "$\\displaystyle 12.609871385104$"
      ],
      "text/plain": [
       "12.6098713851040"
      ]
     },
     "execution_count": 230,
     "metadata": {},
     "output_type": "execute_result"
    }
   ],
   "source": [
    "solutions[-1][0].subs({ 'x1': .4})"
   ]
  },
  {
   "cell_type": "code",
   "execution_count": 231,
   "metadata": {},
   "outputs": [],
   "source": [
    "# gamma = .4, c = 12.61"
   ]
  },
  {
   "cell_type": "code",
   "execution_count": 232,
   "metadata": {},
   "outputs": [],
   "source": [
    "model = get_model(C=12.61, gamma=.4)"
   ]
  },
  {
   "cell_type": "code",
   "execution_count": 233,
   "metadata": {},
   "outputs": [
    {
     "name": "stdout",
     "output_type": "stream",
     "text": [
      "0.3709677419354839 0.18888888888888888 0.24269285265327073\n"
     ]
    }
   ],
   "source": [
    "model.fit(X_train, y_train)\n",
    "preds = model.predict(X_test)\n",
    "    \n",
    "metr = ClassificationMetrics(y_test, preds)\n",
    "metr.add_metrics(['pd', 'pf', 'd2h'])\n",
    "rec, pf, d = metr.get_metrics()\n",
    "print(rec, pf, d)"
   ]
  },
  {
   "cell_type": "code",
   "execution_count": 234,
   "metadata": {},
   "outputs": [
    {
     "data": {
      "text/plain": [
       "0.6567804762867293"
      ]
     },
     "execution_count": 234,
     "metadata": {},
     "output_type": "execute_result"
    }
   ],
   "source": [
    "np.sqrt((1.-rec)**2+pf**2)"
   ]
  },
  {
   "cell_type": "code",
   "execution_count": 236,
   "metadata": {},
   "outputs": [
    {
     "data": {
      "text/plain": [
       "1.0"
      ]
     },
     "execution_count": 236,
     "metadata": {},
     "output_type": "execute_result"
    }
   ],
   "source": [
    "sum(d <= np.array(d2h)) / len(d2h)"
   ]
  },
  {
   "cell_type": "code",
   "execution_count": 237,
   "metadata": {},
   "outputs": [
    {
     "data": {
      "text/plain": [
       "0.24269285265327073"
      ]
     },
     "execution_count": 237,
     "metadata": {},
     "output_type": "execute_result"
    }
   ],
   "source": [
    "d"
   ]
  },
  {
   "cell_type": "code",
   "execution_count": 238,
   "metadata": {},
   "outputs": [],
   "source": [
    "# IT WORKS???"
   ]
  },
  {
   "cell_type": "code",
   "execution_count": null,
   "metadata": {},
   "outputs": [],
   "source": []
  }
 ],
 "metadata": {
  "kernelspec": {
   "display_name": "Python 3",
   "language": "python",
   "name": "python3"
  },
  "language_info": {
   "codemirror_mode": {
    "name": "ipython",
    "version": 3
   },
   "file_extension": ".py",
   "mimetype": "text/x-python",
   "name": "python",
   "nbconvert_exporter": "python",
   "pygments_lexer": "ipython3",
   "version": "3.8.5"
  }
 },
 "nbformat": 4,
 "nbformat_minor": 4
}
