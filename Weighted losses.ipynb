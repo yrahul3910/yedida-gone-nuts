{
 "cells": [
  {
   "cell_type": "code",
   "execution_count": 1,
   "metadata": {},
   "outputs": [],
   "source": [
    "import numpy as np\n",
    "import pandas as pd\n",
    "from sklearn.metrics import recall_score, f1_score, accuracy_score, classification_report"
   ]
  },
  {
   "cell_type": "code",
   "execution_count": 2,
   "metadata": {},
   "outputs": [],
   "source": [
    "def sigmoid(x):\n",
    "    t = x / np.max(x)\n",
    "    return 1. / (1. + np.exp(-t))"
   ]
  },
  {
   "cell_type": "code",
   "execution_count": 3,
   "metadata": {},
   "outputs": [],
   "source": [
    "train_df = pd.read_csv(\"../Dodge/data/defect/camel-1.2.csv\")\n",
    "test_df = pd.read_csv(\"../Dodge/data/defect/camel-1.4.csv\")"
   ]
  },
  {
   "cell_type": "code",
   "execution_count": 4,
   "metadata": {},
   "outputs": [],
   "source": [
    "x_train = train_df.iloc[:,3:-1]\n",
    "y_train = train_df[\"bug\"]\n",
    "y_train = y_train.map(lambda p: 0 if p == 0 else 1)\n",
    "x_test = test_df.iloc[:,3:-1]\n",
    "y_test = test_df[\"bug\"]\n",
    "y_test = y_test.map(lambda p: 0 if p == 0 else 1)"
   ]
  },
  {
   "cell_type": "code",
   "execution_count": 5,
   "metadata": {},
   "outputs": [
    {
     "data": {
      "text/plain": [
       "(608, 20)"
      ]
     },
     "execution_count": 5,
     "metadata": {},
     "output_type": "execute_result"
    }
   ],
   "source": [
    "x_train.shape"
   ]
  },
  {
   "cell_type": "code",
   "execution_count": 6,
   "metadata": {},
   "outputs": [],
   "source": [
    "x_train = np.concatenate((x_train, np.ones((x_train.shape[0], 1))), axis=1)"
   ]
  },
  {
   "cell_type": "code",
   "execution_count": 7,
   "metadata": {},
   "outputs": [
    {
     "data": {
      "text/plain": [
       "(608, 21)"
      ]
     },
     "execution_count": 7,
     "metadata": {},
     "output_type": "execute_result"
    }
   ],
   "source": [
    "x_train.shape"
   ]
  },
  {
   "cell_type": "code",
   "execution_count": 8,
   "metadata": {},
   "outputs": [],
   "source": [
    "x_test = np.concatenate((x_test, np.ones((x_test.shape[0], 1))), axis=1)"
   ]
  },
  {
   "cell_type": "code",
   "execution_count": 9,
   "metadata": {},
   "outputs": [],
   "source": [
    "def hypothesis(theta, x):\n",
    "    return sigmoid(np.dot(x, theta))"
   ]
  },
  {
   "cell_type": "code",
   "execution_count": 15,
   "metadata": {},
   "outputs": [],
   "source": [
    "theta = np.random.randn(x_train.shape[1])"
   ]
  },
  {
   "cell_type": "code",
   "execution_count": 16,
   "metadata": {},
   "outputs": [],
   "source": [
    "idx = np.where(y_train == 1)\n",
    "w = np.ones((x_train.shape[0],))\n",
    "w[idx] = len(y_train) * .5 / sum(y_train)"
   ]
  },
  {
   "cell_type": "code",
   "execution_count": 17,
   "metadata": {},
   "outputs": [],
   "source": [
    "def cost(y, yhat):\n",
    "    return -1./len(y) * (sum(w * y * np.log(yhat) + (1.- w * y) * (1. - np.log(yhat))))"
   ]
  },
  {
   "cell_type": "code",
   "execution_count": 18,
   "metadata": {},
   "outputs": [],
   "source": [
    "yhat = hypothesis(theta, x_train)"
   ]
  },
  {
   "cell_type": "code",
   "execution_count": 19,
   "metadata": {},
   "outputs": [
    {
     "data": {
      "text/plain": [
       "-0.505357120570933"
      ]
     },
     "execution_count": 19,
     "metadata": {},
     "output_type": "execute_result"
    }
   ],
   "source": [
    "cost(y_train, yhat)"
   ]
  },
  {
   "cell_type": "code",
   "execution_count": 171,
   "metadata": {},
   "outputs": [],
   "source": [
    "def step():\n",
    "    global theta, x_train, yhat, w, y_train\n",
    "    theta -= 0.2 / x_train.shape[0] * sum(np.dot(x_train.T, (yhat -  y_train)))"
   ]
  },
  {
   "cell_type": "code",
   "execution_count": 172,
   "metadata": {},
   "outputs": [],
   "source": [
    "step()"
   ]
  },
  {
   "cell_type": "code",
   "execution_count": 173,
   "metadata": {},
   "outputs": [
    {
     "data": {
      "text/plain": [
       "-0.44337301914425425"
      ]
     },
     "execution_count": 173,
     "metadata": {},
     "output_type": "execute_result"
    }
   ],
   "source": [
    "cost(y_train, yhat)"
   ]
  },
  {
   "cell_type": "code",
   "execution_count": 174,
   "metadata": {},
   "outputs": [
    {
     "name": "stdout",
     "output_type": "stream",
     "text": [
      "it 0 | cost -0.5052669982138362\n",
      "it 1 | cost -0.5050428678917611\n",
      "it 2 | cost nan\n",
      "it 3 | cost -0.505376414072418\n",
      "it 4 | cost -0.5053636541232791\n",
      "it 5 | cost -0.5053429546110455\n",
      "it 6 | cost -0.5053035986399644\n",
      "it 7 | cost -0.5051999850065314\n",
      "it 8 | cost -0.5042073242090025\n",
      "it 9 | cost -0.5054730708184334\n",
      "it 10 | cost -0.5055350937675329\n",
      "it 11 | cost -0.5055414510525221\n",
      "it 12 | cost -0.5055437845824049\n",
      "it 13 | cost -0.5055449956556664\n",
      "it 14 | cost -0.5055457370574965\n",
      "it 15 | cost -0.5055462376143469\n",
      "it 16 | cost -0.5055465982803843\n",
      "it 17 | cost -0.505546870506684\n",
      "it 18 | cost -0.5055470832693174\n",
      "it 19 | cost -0.5055472541328158\n",
      "it 20 | cost -0.5055473943642422\n",
      "it 21 | cost -0.5055475115232918\n",
      "it 22 | cost -0.505547610871229\n",
      "it 23 | cost -0.505547696182684\n",
      "it 24 | cost -0.5055477702360871\n",
      "it 25 | cost -0.5055478351219651\n",
      "it 26 | cost -0.5055478924434322\n",
      "it 27 | cost -0.5055479434504089\n",
      "it 28 | cost -0.5055479891318184\n",
      "it 29 | cost -0.5055480302803276\n",
      "it 30 | cost -0.5055480675387299\n",
      "it 31 | cost -0.5055481014337694\n",
      "it 32 | cost -0.5055481324011992\n",
      "it 33 | cost -0.5055481608046132\n",
      "it 34 | cost -0.5055481869497916\n",
      "it 35 | cost -0.5055482110957512\n",
      "it 36 | cost -0.5055482334633548\n",
      "it 37 | cost -0.5055482542420893\n",
      "it 38 | cost -0.5055482735954431\n",
      "it 39 | cost -0.5055482916652198\n",
      "it 40 | cost -0.5055483085750176\n",
      "it 41 | cost -0.5055483244330582\n",
      "it 42 | cost -0.5055483393345074\n",
      "it 43 | cost -0.5055483533633871\n",
      "it 44 | cost -0.5055483665941579\n",
      "it 45 | cost -0.5055483790930432\n",
      "it 46 | cost -0.5055483909191373\n",
      "it 47 | cost -0.5055484021253384\n",
      "it 48 | cost -0.5055484127591414\n",
      "it 49 | cost -0.5055484228633108\n",
      "it 50 | cost -0.505548432476453\n",
      "it 51 | cost -0.5055484416335125\n",
      "it 52 | cost -0.5055484503661952\n",
      "it 53 | cost -0.5055484587033332\n",
      "it 54 | cost -0.505548466671206\n",
      "it 55 | cost -0.5055484742938146\n",
      "it 56 | cost -0.5055484815931254\n",
      "it 57 | cost -0.5055484885892776\n",
      "it 58 | cost -0.5055484953007752\n",
      "it 59 | cost -0.5055485017446435\n",
      "it 60 | cost -0.505548507936578\n",
      "it 61 | cost -0.50554851389107\n",
      "it 62 | cost -0.505548519621521\n",
      "it 63 | cost -0.5055485251403404\n",
      "it 64 | cost -0.5055485304590411\n",
      "it 65 | cost -0.5055485355883128\n",
      "it 66 | cost -0.505548540538099\n",
      "it 67 | cost -0.5055485453176578\n",
      "it 68 | cost -0.505548549935624\n",
      "it 69 | cost -0.5055485544000543\n",
      "it 70 | cost -0.505548558718482\n",
      "it 71 | cost -0.5055485628979525\n",
      "it 72 | cost -0.5055485669450686\n",
      "it 73 | cost -0.5055485708660175\n",
      "it 74 | cost -0.5055485746666093\n",
      "it 75 | cost -0.5055485783523019\n",
      "it 76 | cost -0.5055485819282279\n",
      "it 77 | cost -0.5055485853992194\n",
      "it 78 | cost -0.5055485887698282\n",
      "it 79 | cost -0.5055485920443474\n",
      "it 80 | cost -0.5055485952268272\n",
      "it 81 | cost -0.5055485983210951\n",
      "it 82 | cost -0.5055486013307678\n",
      "it 83 | cost -0.5055486042592691\n",
      "it 84 | cost -0.5055486071098377\n",
      "it 85 | cost -0.5055486098855446\n",
      "it 86 | cost -0.5055486125893\n",
      "it 87 | cost -0.5055486152238664\n",
      "it 88 | cost -0.505548617791865\n",
      "it 89 | cost -0.5055486202957886\n",
      "it 90 | cost -0.5055486227380043\n",
      "it 91 | cost -0.5055486251207666\n",
      "it 92 | cost -0.5055486274462206\n",
      "it 93 | cost -0.5055486297164085\n",
      "it 94 | cost -0.5055486319332771\n",
      "it 95 | cost -0.505548634098684\n",
      "it 96 | cost -0.5055486362143995\n",
      "it 97 | cost -0.5055486382821163\n",
      "it 98 | cost -0.5055486403034473\n",
      "it 99 | cost -0.5055486422799376\n"
     ]
    },
    {
     "name": "stderr",
     "output_type": "stream",
     "text": [
      "/Users/ryedida/opt/anaconda3/lib/python3.7/site-packages/ipykernel_launcher.py:3: RuntimeWarning: overflow encountered in exp\n",
      "  This is separate from the ipykernel package so we can avoid doing imports until\n",
      "/Users/ryedida/opt/anaconda3/lib/python3.7/site-packages/ipykernel_launcher.py:2: RuntimeWarning: divide by zero encountered in log\n",
      "  \n"
     ]
    }
   ],
   "source": [
    "for i in range(100):\n",
    "    yhat = hypothesis(theta, x_train)\n",
    "    print(\"it\", i, \"|\", \"cost\", cost(y_train, yhat))\n",
    "    step()"
   ]
  },
  {
   "cell_type": "code",
   "execution_count": 175,
   "metadata": {},
   "outputs": [
    {
     "data": {
      "text/plain": [
       "1.0"
      ]
     },
     "execution_count": 175,
     "metadata": {},
     "output_type": "execute_result"
    }
   ],
   "source": [
    "h = hypothesis(theta, x_test)\n",
    "h[h >= .5] = 1\n",
    "h[h < .5] = 0\n",
    "recall_score(y_test, h)"
   ]
  },
  {
   "cell_type": "code",
   "execution_count": 176,
   "metadata": {},
   "outputs": [
    {
     "data": {
      "text/plain": [
       "0.28515240904621436"
      ]
     },
     "execution_count": 176,
     "metadata": {},
     "output_type": "execute_result"
    }
   ],
   "source": [
    "f1_score(y_test, h)"
   ]
  },
  {
   "cell_type": "code",
   "execution_count": 177,
   "metadata": {},
   "outputs": [
    {
     "name": "stdout",
     "output_type": "stream",
     "text": [
      "              precision    recall  f1-score   support\n",
      "\n",
      "           0       0.00      0.00      0.00       727\n",
      "           1       0.17      1.00      0.29       145\n",
      "\n",
      "    accuracy                           0.17       872\n",
      "   macro avg       0.08      0.50      0.14       872\n",
      "weighted avg       0.03      0.17      0.05       872\n",
      "\n"
     ]
    }
   ],
   "source": [
    "print(classification_report(y_test, h))"
   ]
  },
  {
   "cell_type": "markdown",
   "metadata": {},
   "source": [
    "## sklearn impl"
   ]
  },
  {
   "cell_type": "code",
   "execution_count": 20,
   "metadata": {},
   "outputs": [],
   "source": [
    "from sklearn.linear_model import LogisticRegression"
   ]
  },
  {
   "cell_type": "code",
   "execution_count": 24,
   "metadata": {},
   "outputs": [],
   "source": [
    "clf = LogisticRegression(class_weight=\"balanced\", penalty=\"l1\", solver=\"liblinear\")"
   ]
  },
  {
   "cell_type": "code",
   "execution_count": 25,
   "metadata": {},
   "outputs": [
    {
     "data": {
      "text/plain": [
       "LogisticRegression(class_weight='balanced', penalty='l1', solver='liblinear')"
      ]
     },
     "execution_count": 25,
     "metadata": {},
     "output_type": "execute_result"
    }
   ],
   "source": [
    "clf.fit(x_train, y_train)"
   ]
  },
  {
   "cell_type": "code",
   "execution_count": 26,
   "metadata": {},
   "outputs": [],
   "source": [
    "preds = clf.predict(x_test)"
   ]
  },
  {
   "cell_type": "code",
   "execution_count": 27,
   "metadata": {},
   "outputs": [
    {
     "data": {
      "text/plain": [
       "0.3767441860465116"
      ]
     },
     "execution_count": 27,
     "metadata": {},
     "output_type": "execute_result"
    }
   ],
   "source": [
    "f1_score(y_test, preds)"
   ]
  },
  {
   "cell_type": "code",
   "execution_count": 28,
   "metadata": {},
   "outputs": [],
   "source": [
    "clf = LogisticRegression(penalty=\"l1\", solver=\"liblinear\")"
   ]
  },
  {
   "cell_type": "code",
   "execution_count": 29,
   "metadata": {},
   "outputs": [],
   "source": [
    "clf.fit(x_train, y_train)\n",
    "preds = clf.predict(x_test)"
   ]
  },
  {
   "cell_type": "code",
   "execution_count": 30,
   "metadata": {},
   "outputs": [
    {
     "data": {
      "text/plain": [
       "0.3134328358208956"
      ]
     },
     "execution_count": 30,
     "metadata": {},
     "output_type": "execute_result"
    }
   ],
   "source": [
    "f1_score(y_test, preds)"
   ]
  },
  {
   "cell_type": "code",
   "execution_count": null,
   "metadata": {},
   "outputs": [],
   "source": []
  }
 ],
 "metadata": {
  "kernelspec": {
   "display_name": "Python 3",
   "language": "python",
   "name": "python3"
  },
  "language_info": {
   "codemirror_mode": {
    "name": "ipython",
    "version": 3
   },
   "file_extension": ".py",
   "mimetype": "text/x-python",
   "name": "python",
   "nbconvert_exporter": "python",
   "pygments_lexer": "ipython3",
   "version": "3.7.4"
  }
 },
 "nbformat": 4,
 "nbformat_minor": 2
}
